{
 "cells": [
  {
   "cell_type": "markdown",
   "id": "23bc1e25",
   "metadata": {},
   "source": [
    "# Automatically annotate clusters"
   ]
  },
  {
   "cell_type": "markdown",
   "id": "6f854c17",
   "metadata": {},
   "source": []
  },
  {
   "cell_type": "markdown",
   "id": "6566c0c6",
   "metadata": {},
   "source": []
  },
  {
   "cell_type": "code",
   "execution_count": null,
   "id": "42feb794",
   "metadata": {},
   "outputs": [],
   "source": [
    "library(tidyverse)\n",
    "library(glue)\n",
    "library(magrittr)\n",
    "library(Seurat)\n",
    "library(glue)\n",
    "\n",
    "subproject = params$subproject\n",
    "patient = params$patient\n",
    "\n",
    "# set path depending if on cluster or local\n",
    "root_dir <- ifelse(\n",
    "  grepl(dirname(getwd()), pattern = \"/scratch/\"),\n",
    "  \"/scratch/devel/pnieto\", #true statement\n",
    "  \"S:\" # false statement\n",
    ")\n",
    "\n",
    "# name of the project directory\n",
    "proj_dir <- glue::glue(\"{root_dir}/projects/CSF\")\n",
    "# name of output folder\n",
    "out_dir <- glue(\"{proj_dir}/data/{subproject}/output/04_high_res_annotation\") %T>%\n",
    "  dir.create()\n",
    "\n",
    "# load cell type/list\n",
    "source(glue(\"{root_dir}/scripts/r_utils/marker_genes.R\"))"
   ]
  },
  {
   "cell_type": "markdown",
   "id": "57cd828c",
   "metadata": {},
   "source": []
  },
  {
   "cell_type": "code",
   "execution_count": null,
   "id": "6dc52db3",
   "metadata": {},
   "outputs": [],
   "source": [
    "# load annotated object\n",
    "data <- readRDS(glue(\"{proj_dir}/data/{subproject}/output/03_inferCNV/{patient}/{patient}_annotated_inferCNV.rds\"))"
   ]
  },
  {
   "cell_type": "markdown",
   "id": "b3212abe",
   "metadata": {},
   "source": []
  },
  {
   "cell_type": "code",
   "execution_count": null,
   "id": "c6ce2fbd",
   "metadata": {},
   "outputs": [],
   "source": [
    "# option to recluster to even higher resolution\n",
    "data <- data %>%\n",
    "  NormalizeData() %>%\n",
    "  FindVariableFeatures(nfeatures = 3000) %>%\n",
    "  ScaleData() %>%\n",
    "  RunPCA() %>%\n",
    "  RunUMAP(dims = 1:20) %>%\n",
    "  FindNeighbors(dims = 1:20) %>%\n",
    "  FindClusters(resolution = 2)\n",
    "data$annot_HR <- data$seurat_clusters"
   ]
  },
  {
   "cell_type": "markdown",
   "id": "2b650c86",
   "metadata": {},
   "source": []
  },
  {
   "cell_type": "code",
   "execution_count": null,
   "id": "40fd4539",
   "metadata": {},
   "outputs": [],
   "source": [
    "# compute signature scores con UCell\n",
    "data <- UCell::AddModuleScore_UCell(data, features = marker_genes, ncores = 4, name = \"\")"
   ]
  },
  {
   "cell_type": "markdown",
   "id": "5cc513b1",
   "metadata": {},
   "source": []
  },
  {
   "cell_type": "code",
   "execution_count": null,
   "id": "197fa695",
   "metadata": {},
   "outputs": [],
   "source": [
    "# get average of each signature per \"annot_HR\" cluster\n",
    "avg <- data@meta.data[, c(\"annot_HR\", make.names(names(marker_genes)))]\n",
    "rownames(avg) <- NULL\n",
    "averages <- aggregate(. ~ annot_HR, data = avg, FUN = mean)\n",
    "# make 0 all values below 0.1\n",
    "averages[averages < 0.01] <- 0\n",
    "# Calculate column sums (except for the first column)\n",
    "row_sums <- rowSums(averages[, -1])\n",
    "# Selecting the columns you want to divide by the row sums (excludes the first column)\n",
    "columns_to_divide <- names(averages)[-1]\n",
    "# Divide each element in the selected columns by the corresponding row sum\n",
    "averages[columns_to_divide] <- averages[columns_to_divide] / row_sums"
   ]
  },
  {
   "cell_type": "markdown",
   "id": "35f164cb",
   "metadata": {},
   "source": []
  },
  {
   "cell_type": "code",
   "execution_count": null,
   "id": "039124d4",
   "metadata": {},
   "outputs": [],
   "source": [
    "# make long so that it can be used with ggplot\n",
    "df_avg <- pivot_longer(averages, cols = colnames(averages)[colnames(averages) != \"annot_HR\"])\n",
    "\n",
    "# plot averages as a heatmap heatmap\n",
    "df_avg %>%\n",
    "  # mutate(value = if_else(value < 0.1, 0, value)) %>%\n",
    "ggplot(aes(x = annot_HR, y = name, fill = value)) +\n",
    "  geom_tile(color = \"white\") +\n",
    "  scale_fill_gradient(low = \"white\", high = \"red\") +  # Set the color scale from white to redd\n",
    "  theme_minimal() +\n",
    "  theme(axis.text.x = element_text(angle = 45, hjust = 1), # Rotate x-axis labels for better readability\n",
    "        text = element_text(size = 16))   +\n",
    "  labs(title = \"Average signature score\",\n",
    "       fill = \"Score\",\n",
    "       caption = glue(\"{subproject} {patient}\"))\n",
    "ggsave(file = glue(\"{out_dir}/{subproject}_{patient}_heatmap.png\"), height = 10, width = 10)"
   ]
  },
  {
   "cell_type": "markdown",
   "id": "593acd31",
   "metadata": {},
   "source": []
  },
  {
   "cell_type": "code",
   "execution_count": null,
   "id": "62a92ec6",
   "metadata": {},
   "outputs": [],
   "source": [
    "# remove column annot and assign as rownames\n",
    "rownames(averages) <- averages$annot_HR\n",
    "averages$annot_HR <- NULL\n",
    "\n",
    "## assign to each cluster, the cell type with the highest jaccard index\n",
    "highest_column_list <- c()# Initialize an empty list to store the results\n",
    "# Loop through the rows (clusters) of the 'averages' matrix\n",
    "for (row_name in rownames(averages)) {\n",
    "  # Get the row values for the current cluster\n",
    "  row_values <- averages[row_name, ]\n",
    "\n",
    "  # Check if all values in the row are 0\n",
    "  if (all(row_values < 0.1)) {\n",
    "    highest_column <- \"unknown\"\n",
    "  } else {\n",
    "    # Find the column names with the highest value(s) in the row\n",
    "    highest_columns <- names(row_values)[row_values == max(row_values)]\n",
    "\n",
    "    # Check if there is a tie (more than one column with the same highest value)\n",
    "    if (length(highest_columns) > 1) {\n",
    "      print(highest_columns)\n",
    "      highest_column <- \"unknown\"\n",
    "    } else {\n",
    "      # Assign the highest_column to the current cluster in the list\n",
    "      highest_column <- highest_columns\n",
    "    }\n",
    "  }\n",
    "\n",
    "  # Assign the highest_column to the current cluster in the list\n",
    "  highest_column_list <- c(highest_column_list, str_replace_all(highest_column, pattern = \"\\\\.\", replacement = \" \"))\n",
    "}\n",
    "names(highest_column_list) <- rownames(averages)"
   ]
  },
  {
   "cell_type": "markdown",
   "id": "4939d9e5",
   "metadata": {},
   "source": []
  },
  {
   "cell_type": "code",
   "execution_count": null,
   "id": "650aafe9",
   "metadata": {},
   "outputs": [],
   "source": [
    "# assign annotation to annot 2\n",
    "data$barcode <- rownames(data@meta.data)\n",
    "df_meta <- data@meta.data[, c(\"barcode\", \"annot_HR\")]\n",
    "df_annot <- data.frame(\n",
    "  \"annot_HR\" = names(highest_column_list),\n",
    "  \"auto_annot\" = unname(highest_column_list)\n",
    ")\n",
    "df_meta <- merge(df_meta, df_annot, all.x = TRUE)\n",
    "rownames(df_meta) <- df_meta$barcode\n",
    "data <- AddMetaData(data, metadata = df_meta[,c(\"barcode\", \"auto_annot\")])\n",
    "# fix tumor clusters if any\n",
    "data$auto_annot[data$annot %in% grep(unique(data$annot), pattern = \"Tumor|tumor\", value = TRUE)] <- \"Tumor cells\"\n",
    "data$auto_annot[data$annot %in% grep(unique(data$annot), pattern = \"Other|other\", value = TRUE)] <- \"Other cells\""
   ]
  },
  {
   "cell_type": "markdown",
   "id": "024022e3",
   "metadata": {},
   "source": []
  },
  {
   "cell_type": "code",
   "execution_count": null,
   "id": "3865eaaa",
   "metadata": {},
   "outputs": [],
   "source": [
    "# save annotated object\n",
    "saveRDS(data, glue(\"{out_dir}/{subproject}_{patient}_HR_automatic_annotated.rds\"))"
   ]
  },
  {
   "cell_type": "markdown",
   "id": "8b5ff5bb",
   "metadata": {},
   "source": []
  },
  {
   "cell_type": "code",
   "execution_count": null,
   "id": "746745e8",
   "metadata": {},
   "outputs": [],
   "source": [
    "p1 <- DimPlot(data, group.by = \"annot_HR\", cols = as.vector(pals::polychrome())) +\n",
    "  labs(\n",
    "    title = \"Clustering\"\n",
    "  )\n",
    "p2 <- DimPlot(data, group.by = \"auto_annot\", cols = pals::glasbey()) +\n",
    "  labs(\n",
    "    title = \"High Resolution Annotation\",\n",
    "    caption = glue(\"{subproject} {patient}\")\n",
    "  )\n",
    "p1+p2\n",
    "ggsave(file = glue(\"{out_dir}/{subproject}_{patient}_umaps.png\"), width = 12)"
   ]
  },
  {
   "cell_type": "markdown",
   "id": "bf65deb5",
   "metadata": {},
   "source": []
  },
  {
   "cell_type": "markdown",
   "id": "d9331e8b",
   "metadata": {},
   "source": [
    "# Cell Typist"
   ]
  },
  {
   "cell_type": "markdown",
   "id": "b3af39c8",
   "metadata": {},
   "source": []
  },
  {
   "cell_type": "code",
   "execution_count": null,
   "id": "edb85110",
   "metadata": {},
   "outputs": [],
   "source": [
    "# create CellTypist folder\n",
    "ct_dir <- glue(\"{proj_dir}/data/{subproject}/output/05_CellTypist\") %T>%\n",
    "  dir.create()\n",
    "# save csv for CellTypist\n",
    "write.table(as.matrix(GetAssayData(object = data, slot = \"counts\")),\n",
    "            glue(\"{ct_dir}/{patient}_raw_counts.csv\"),\n",
    "            sep = ',', row.names = T, col.names = T, quote = F)\n",
    "# run CT script\n",
    "system(glue(\"python {proj_dir}/code/run_celltypist.py {ct_dir}/{patient}_raw_counts.csv {ct_dir} {patient}_\"))"
   ]
  },
  {
   "cell_type": "markdown",
   "id": "1921ab42",
   "metadata": {},
   "source": []
  },
  {
   "cell_type": "code",
   "execution_count": null,
   "id": "6b7587d7",
   "metadata": {},
   "outputs": [],
   "source": [
    "predictions <- read.csv(glue(\"{ct_dir}/{patient}_predicted_labels.csv\"))\n",
    "rownames(predictions) <- predictions$X\n",
    "predictions$X <- NULL\n",
    "colnames(predictions) <- paste0(\"CT_\", colnames(predictions))\n",
    "\n",
    "data <- AddMetaData(data, metadata = predictions)\n",
    "saveRDS(data, glue(\"{ct_dir}/{patient}_HR_automatic_annotated_CT.rds\"))"
   ]
  },
  {
   "cell_type": "markdown",
   "id": "7515682c",
   "metadata": {},
   "source": []
  },
  {
   "cell_type": "code",
   "execution_count": null,
   "id": "db5f8233",
   "metadata": {},
   "outputs": [],
   "source": [
    "palette <- c(as.vector(pals::polychrome()), as.vector(pals::alphabet()))\n",
    "\n",
    "t <- table(data$CT_predicted_labels) %>%\n",
    "  as.data.frame() %>%\n",
    "  filter(Freq >= 5) %>%\n",
    "  pull(Var1)\n",
    "\n",
    "DimPlot(subset(data, CT_predicted_labels %in% t), group.by = \"CT_predicted_labels\", ncol = 2, cols = palette, shuffle = T) &\n",
    "  theme(text = element_text(size = 14)) &\n",
    "  guides(colour = guide_legend(ncol = 2, override.aes = list(size=3)))\n",
    "ggsave(glue(\"{ct_dir}/{patient}_CT_predictions.png\"), width = 16)"
   ]
  },
  {
   "cell_type": "markdown",
   "id": "89bf3518",
   "metadata": {},
   "source": []
  },
  {
   "cell_type": "markdown",
   "id": "3ef6b6b6",
   "metadata": {},
   "source": [
    "<a href=\"#top\">Back to top</a>"
   ]
  },
  {
   "cell_type": "markdown",
   "id": "c03be3a7",
   "metadata": {},
   "source": []
  },
  {
   "cell_type": "markdown",
   "id": "839977d8",
   "metadata": {},
   "source": [
    "****"
   ]
  }
 ],
 "metadata": {
  "kernelspec": {
   "display_name": "R",
   "language": "R",
   "name": "ir"
  },
  "language_info": {
   "codemirror_mode": "r",
   "file_extension": ".r",
   "mimetype": "text/x-r-source",
   "name": "R",
   "pygments_lexer": "r",
   "version": "4.3.3"
  }
 },
 "nbformat": 4,
 "nbformat_minor": 5
}
