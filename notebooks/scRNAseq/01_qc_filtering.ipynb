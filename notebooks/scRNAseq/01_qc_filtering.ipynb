{
 "cells": [
  {
   "cell_type": "code",
   "execution_count": null,
   "id": "adf936e8",
   "metadata": {},
   "outputs": [],
   "source": [
    "# tryCatch({\n",
    "#   source(\"here::here(\"/scratch_isilon/groups/singlecell/pnieto/scripts/r_utils/utils.R\")\")\n",
    "# }, error = function(e) {\n",
    "#   source(\"here::here(\"S:/scripts/r_utils/utils.R\")\")\n",
    "# })\n",
    "\n",
    "source(\"here::here(\"S:/scripts/r_utils/utils.R\")\")\n"
   ]
  },
  {
   "cell_type": "code",
   "execution_count": null,
   "id": "fdf7fa1f",
   "metadata": {},
   "outputs": [],
   "source": [
    "# create output folder if it doesn't exist yet\n",
    "if (!file.exists(params$out_dir)) {\n",
    "  dir.create(params$out_dir, recursive = TRUE)\n",
    "}\n"
   ]
  },
  {
   "cell_type": "code",
   "execution_count": null,
   "id": "cebc58ba",
   "metadata": {},
   "outputs": [],
   "source": [
    "cat(\"All parameters passed to render this file:\", \"\\n\")\n",
    "t <- lapply(1:length(params), function(x){\n",
    "  cat(paste0(names(params[x]), \": \" , params[[x]]), \"\\n\")\n",
    "})\n"
   ]
  },
  {
   "cell_type": "markdown",
   "id": "37b61166",
   "metadata": {},
   "source": [
    "`r glue::glue(\"# {params$proj_name}\")`\n"
   ]
  },
  {
   "cell_type": "markdown",
   "id": "44c7f402",
   "metadata": {},
   "source": [
    "There are three important variables for the QC filtering:\n"
   ]
  },
  {
   "cell_type": "markdown",
   "id": "750ffb87",
   "metadata": {},
   "source": [
    "- *nFeature_RNA* is the number of genes expressed in each cell\n"
   ]
  },
  {
   "cell_type": "markdown",
   "id": "c4b451f0",
   "metadata": {},
   "source": [
    "- *nCount_RNA* is the total number of RNA molecules detected in a cell (number of UMIs)\n"
   ]
  },
  {
   "cell_type": "markdown",
   "id": "130e2d6b",
   "metadata": {},
   "source": [
    "- *percent.mt* is the percentage of expressed RNA that corresponds to mitochondrial genes\n"
   ]
  },
  {
   "cell_type": "markdown",
   "id": "50d8ef9e",
   "metadata": {},
   "source": [
    "- *doublet_score* is the score that a cell might be a doublet, instead of a single cell\n"
   ]
  },
  {
   "cell_type": "markdown",
   "id": "ad87036c",
   "metadata": {},
   "source": [
    "Low number of genes or RNA molecules for a cell indicates that it may be dead or an empty droplet. On the contrary, cells with high number of genes or molecules indicate that the \"cell\" may in fact be a doublet (or multiplet). Cells with high mitochondrial content may also be dead or broken cells as the mitochondrial material is the last to degrade.\n"
   ]
  },
  {
   "cell_type": "markdown",
   "id": "30eb2003",
   "metadata": {},
   "source": [
    "By removing outliers from these groups we expect to remove most bad quality cells from the downstream analysis. However, we won't be very stringent here, as we can further remove bad quality cells during downstream analysis."
   ]
  },
  {
   "cell_type": "code",
   "execution_count": null,
   "id": "0dd9aad1",
   "metadata": {},
   "outputs": [],
   "source": [
    "\n",
    "library <- list.dirs(path = glue::glue(\"{params$proj_dir}/jobs\"), full.names = FALSE, recursive = FALSE)\n",
    "\n",
    "obj_list <- purrr::map(library, function(lib){\n",
    "  rna <- glue::glue(\"{params$proj_dir}/jobs/{lib}/{lib}/outs/per_sample_outs/{lib}/count/sample_filtered_feature_bc_matrix/\") \n",
    "  print(rna)\n",
    "  tcr <- glue::glue(\"{params$proj_dir}/jobs/{lib}/{lib}/outs/per_sample_outs/{lib}/vdj_t/\")\n",
    "  print(tcr)\n",
    "  bcr <- glue::glue(\"{params$proj_dir}/jobs/{lib}/{lib}/outs/per_sample_outs/{lib}/vdj_b/\")\n",
    "  print(bcr)\n",
    "  load_seurat(gex_dir = rna, tcr_dir = NULL, bcr_dir = NULL, project = params$proj_name, sample = lib, sp = \"H\")\n",
    "})\n",
    "saveRDS(obj_list, glue::glue(\"{params$out_dir}/{params$proj_name}_raw_obj_list.rds\"))\n"
   ]
  },
  {
   "cell_type": "code",
   "execution_count": null,
   "id": "5bb02aac",
   "metadata": {},
   "outputs": [],
   "source": [
    "obj_list <- readRDS(glue::glue(\"{params$out_dir}/{params$proj_name}_raw_obj_list.rds\"))\n"
   ]
  },
  {
   "cell_type": "code",
   "execution_count": null,
   "id": "92907645",
   "metadata": {},
   "outputs": [],
   "source": [
    "# merge objects before QC (only if length of list is greater than one)\n",
    "if (length(obj_list) > 1) {data <- merge(obj_list[[1]], obj_list[2:length(obj_list)])} else {data <- obj_list[[1]]\n",
    "}\n",
    "print(data)\n",
    "rm(obj_list)\n",
    "gc()\n"
   ]
  },
  {
   "cell_type": "markdown",
   "id": "55b7b5fa",
   "metadata": {},
   "source": [
    "## General QC visualization\n"
   ]
  },
  {
   "cell_type": "code",
   "execution_count": null,
   "id": "2b65cd56",
   "metadata": {},
   "outputs": [],
   "source": [
    "Idents(data) <- \"sample\"\n",
    "qcplots(data)\n"
   ]
  },
  {
   "cell_type": "markdown",
   "id": "9fe2f43e",
   "metadata": {},
   "source": [
    "## Library Size\n"
   ]
  },
  {
   "cell_type": "code",
   "execution_count": null,
   "id": "6e5c1294",
   "metadata": {},
   "outputs": [],
   "source": [
    "lib_size_hist1 <- data@meta.data %>%\n",
    "  ggplot(aes(nCount_RNA)) +\n",
    "    geom_histogram(bins = 100) +\n",
    "    labs(x = \"Library Size (log10(total UMI))\", y = \"Number of Cells\") +\n",
    "    geom_vline(xintercept = params$min_lib_size, color = \"red\") +\n",
    "    geom_vline(xintercept = params$max_lib_size, color = \"red\") +\n",
    "    scale_x_log10() +\n",
    "    theme_pubr()\n",
    "lib_size_hist2 <- data@meta.data %>%\n",
    "  ggplot(aes(nCount_RNA)) +\n",
    "    geom_histogram(bins = 100) +\n",
    "    scale_x_continuous(limits = c(min(data$nCount_RNA), 100000)) +\n",
    "    labs(x = \"Library Size (total UMI)\", y = \"Number of Cells\") +\n",
    "    geom_vline(xintercept = params$min_lib_size, color = \"red\") +\n",
    "    geom_vline(xintercept = params$max_lib_size, color = \"red\") +\n",
    "    theme_pubr()\n",
    "ggarrange(plotlist = list(lib_size_hist1, lib_size_hist2), ncol = 2)\n"
   ]
  },
  {
   "cell_type": "markdown",
   "id": "6c51eb27",
   "metadata": {},
   "source": [
    "## Number of detected genes\n"
   ]
  },
  {
   "cell_type": "code",
   "execution_count": null,
   "id": "bc893340",
   "metadata": {},
   "outputs": [],
   "source": [
    "n_genes_hist1 <- data@meta.data %>%\n",
    "  ggplot(aes(nFeature_RNA)) +\n",
    "    geom_histogram(bins = 100) +\n",
    "    labs(x = \"Number of Detected Genes (log10)\", y = \"Number of Cells\") +\n",
    "    geom_vline(xintercept = params$min_n_genes, color = \"red\") +\n",
    "    geom_vline(xintercept = params$max_n_genes, color = \"red\") +\n",
    "    scale_x_log10() +\n",
    "    theme_pubr()\n",
    "n_genes_hist2 <- data@meta.data %>%\n",
    "  ggplot(aes(nFeature_RNA)) +\n",
    "    geom_histogram(bins = 100) +\n",
    "    #scale_x_continuous(limits = c(0, 1000)) +\n",
    "    geom_vline(xintercept = params$min_n_genes, color = \"red\") +\n",
    "    geom_vline(xintercept = params$max_n_genes, color = \"red\") +\n",
    "    labs(x = \"Number of Detected Genes\", y = \"Number of Cells\") +\n",
    "    theme_pubr()\n",
    "ggarrange(plotlist = list(n_genes_hist1, n_genes_hist2), ncol = 2)\n"
   ]
  },
  {
   "cell_type": "markdown",
   "id": "84f6ace5",
   "metadata": {},
   "source": [
    "Number of detected genes across samples:\n"
   ]
  },
  {
   "cell_type": "code",
   "execution_count": null,
   "id": "b2e2933a",
   "metadata": {},
   "outputs": [],
   "source": [
    "n_genes_vs_samples <- VlnPlot(\n",
    "  data,\n",
    "  features = \"nFeature_RNA\",\n",
    "  pt.size = 0,\n",
    "  #cols = rep(\"darkgray\", length(unique(data$patient))),\n",
    "  group.by = \"sample\"\n",
    ")\n",
    "n_genes_vs_samples +\n",
    "  labs(title = \"\", x = \"\", y = \"Number of Detected Genes\") +\n",
    "  geom_hline(yintercept = params$min_n_genes, color = \"red\") +\n",
    "  geom_hline(yintercept = params$max_n_genes, color = \"red\") +\n",
    "  #scale_y_log10() +\n",
    "  theme(legend.position = \"none\",\n",
    "        axis.title = element_text(size = 13))\n"
   ]
  },
  {
   "cell_type": "markdown",
   "id": "0fd6988d",
   "metadata": {},
   "source": [
    "## Fraction of mitochondrial content\n"
   ]
  },
  {
   "cell_type": "code",
   "execution_count": null,
   "id": "6198be8b",
   "metadata": {},
   "outputs": [],
   "source": [
    "pct_mt_hist <- data@meta.data %>%\n",
    "  ggplot(aes(percent.mt)) +\n",
    "    geom_histogram(bins = 10) +\n",
    "    geom_vline(xintercept = params$max_pct_mt, color = \"red\") +\n",
    "    #scale_x_continuous(limits = c(0, 100)) +\n",
    "    #scale_y_continuous(limits = c(0, 1000)) +\n",
    "    labs(x = \"% Mitochondrial Expression\", y = \"Number of Cells\") +\n",
    "    \n",
    "    theme_pubr()\n",
    "pct_mt_hist\n"
   ]
  },
  {
   "cell_type": "code",
   "execution_count": null,
   "id": "009faca7",
   "metadata": {},
   "outputs": [],
   "source": [
    "mt_pct_vs_samples <- VlnPlot(\n",
    "  data,\n",
    "  features = \"percent.mt\",\n",
    "  pt.size = 0,\n",
    "  #cols = rep(\"darkgray\", length(unique(data$patient))),\n",
    "  group.by = \"sample\",\n",
    "  y.max = 100\n",
    ")\n",
    "mt_pct_vs_samples +\n",
    "  labs(title = \"\", x = \"\", y = \"% of MT genes\") +\n",
    "  geom_hline(yintercept = params$max_pct_mt, color = \"red\") +\n",
    "  #scale_y_log10() +\n",
    "  theme(legend.position = \"none\",\n",
    "        axis.title = element_text(size = 13))\n"
   ]
  },
  {
   "cell_type": "markdown",
   "id": "5cf8fece",
   "metadata": {},
   "source": [
    "## Joint QC metrics\n"
   ]
  },
  {
   "cell_type": "markdown",
   "id": "a2836d0e",
   "metadata": {},
   "source": [
    "It is important to assess how these variables covary, since metabolically active cells might also have a high mitochondrial expression:\n"
   ]
  },
  {
   "cell_type": "code",
   "execution_count": null,
   "id": "821bff29",
   "metadata": {},
   "outputs": [],
   "source": [
    "# number of detected genes VS library size\n",
    "n_genes_vs_lib_size <- FeatureScatter(\n",
    "  data,\n",
    "  feature1 = \"nCount_RNA\",\n",
    "  feature2 = \"nFeature_RNA\",\n",
    "  pt.size = 0.15,\n",
    "  cols = rep(\"black\", length(levels(Idents(data))))\n",
    ")\n",
    "n_genes_vs_lib_size <- n_genes_vs_lib_size +\n",
    "  labs(x = \"Library Size (total UMI)\", y = \"Number of Detected Genes\") +\n",
    "  theme(legend.position = \"none\", plot.title = element_blank())\n",
    "n_genes_vs_lib_size +\n",
    "  geom_vline(xintercept = params$min_lib_size, linetype = \"dashed\", color = \"red\") +\n",
    "  geom_vline(xintercept = params$max_lib_size, linetype = \"dashed\", color = \"red\") +\n",
    "  geom_hline(yintercept = params$min_n_genes, linetype = \"dashed\", color = \"red\") +\n",
    "  geom_hline(yintercept = params$max_n_genes, linetype = \"dashed\", color = \"red\")\n"
   ]
  },
  {
   "cell_type": "code",
   "execution_count": null,
   "id": "a5943cab",
   "metadata": {},
   "outputs": [],
   "source": [
    "# % mitochondrial expression VS library size\n",
    "pct_mt_vs_lib_size <- FeatureScatter(\n",
    "  data,\n",
    "  feature1 = \"nCount_RNA\",\n",
    "  feature2 = \"percent.mt\",\n",
    "  pt.size = 0.15,\n",
    "  cols = rep(\"black\", length(levels(Idents(data))))\n",
    ")\n",
    "pct_mt_vs_lib_size <- pct_mt_vs_lib_size +\n",
    "  labs(x = \"Library Size (total UMI)\", y = \"% Mitochondrial Expression\") +\n",
    "  theme(legend.position = \"none\", plot.title = element_blank())\n",
    "pct_mt_vs_lib_size +\n",
    "  geom_vline(xintercept = params$min_lib_size, linetype = \"dashed\", color = \"red\") +\n",
    "  geom_vline(xintercept = params$max_lib_size, linetype = \"dashed\", color = \"red\") +\n",
    "  geom_hline(yintercept = params$max_pct_mt, linetype = \"dashed\", color = \"red\")\n"
   ]
  },
  {
   "cell_type": "code",
   "execution_count": null,
   "id": "a718bdf5",
   "metadata": {},
   "outputs": [],
   "source": [
    "mid <- 3\n",
    "\n",
    "p  = ggplot(data@meta.data, aes(x = nCount_RNA, y = nFeature_RNA)) + \n",
    "  geom_point(aes(color = percent.mt), size = 1) +\n",
    "  scale_color_gradient2(midpoint = mid, low = \"black\", mid = grDevices::adjustcolor(\"grey\", alpha.f = 0.2), high =\"red\") +\n",
    "  scale_y_continuous(trans = \"log10\") + \n",
    "  scale_x_continuous(trans = \"log10\") +\n",
    "  theme_cowplot(12) + \n",
    "  geom_vline(xintercept = c(params$min_lib_size,params$max_lib_size), linetype = 3) +\n",
    "  geom_hline(yintercept = c(params$min_n_genes,params$max_n_genes), linetype = 3)\n",
    "\n",
    "ggMarginal(p, type = \"densigram\", size = 10)\n"
   ]
  },
  {
   "cell_type": "code",
   "execution_count": null,
   "id": "1e696902",
   "metadata": {},
   "outputs": [],
   "source": [
    "mid <- 5\n",
    "\n",
    "ggplot(data@meta.data, aes(x = nCount_RNA, y = nFeature_RNA)) + \n",
    "  geom_point(aes(color = percent.mt), size = 1) +\n",
    "  scale_color_gradient2(midpoint = mid, low = \"black\", mid = grDevices::adjustcolor(\"white\", alpha.f = 0.2), high =\"red\") +\n",
    "  scale_y_continuous(trans = \"log10\") + \n",
    "  scale_x_continuous(trans = \"log10\") + \n",
    "  theme_cowplot(12) + \n",
    "  facet_wrap(~sample, ncol = 2) + \n",
    "  geom_vline(xintercept = c(params$min_lib_size, params$max_lib_size), linetype = 3) + \n",
    "  geom_hline(yintercept = c(params$min_n_genes, params$max_n_genes), linetype = 3)\n"
   ]
  },
  {
   "cell_type": "markdown",
   "id": "364fb195",
   "metadata": {},
   "source": [
    "## Scrublet\n"
   ]
  },
  {
   "cell_type": "markdown",
   "id": "d7eee2d6",
   "metadata": {},
   "source": [
    "We run [scrublet](https://www.sciencedirect.com/science/article/pii/S2405471218304745) on each of the samples but for the moment we are not going to filter out any cells based on doublet score.\n"
   ]
  },
  {
   "cell_type": "code",
   "execution_count": null,
   "id": "827cec05",
   "metadata": {},
   "outputs": [],
   "source": [
    "mid <- 0.05\n",
    "\n",
    "p  = ggplot(data@meta.data, aes(x = nCount_RNA, y = nFeature_RNA)) + \n",
    "  geom_point(aes(color =doublet_score), size = 1) +\n",
    "  scale_color_gradient2(midpoint = mid, low = \"black\", mid = grDevices::adjustcolor(\"grey\", alpha.f = 0.2), high =\"red\") +\n",
    "  scale_y_continuous(trans = \"log10\") + \n",
    "  scale_x_continuous(trans = \"log10\") +\n",
    "  theme_cowplot(12) + \n",
    "  geom_vline(xintercept = c(params$min_lib_size,params$max_lib_size), linetype = 3) +\n",
    "  geom_hline(yintercept = c(params$min_n_genes,params$max_n_genes), linetype = 3)\n",
    "\n",
    "ggMarginal(p, type = \"densigram\", size = 10)\n"
   ]
  },
  {
   "cell_type": "code",
   "execution_count": null,
   "id": "b1ad3f18",
   "metadata": {},
   "outputs": [],
   "source": [
    "mid <- 0.05\n",
    "\n",
    "ggplot(data@meta.data, aes(x = nCount_RNA, y = nFeature_RNA)) + \n",
    "  geom_point(aes(color =doublet_score), size = 1) +\n",
    "  scale_color_gradient2(midpoint = mid, low = \"black\", mid = grDevices::adjustcolor(\"white\", alpha.f = 0.2), high =\"red\") +\n",
    "  scale_y_continuous(trans = \"log10\") + \n",
    "  scale_x_continuous(trans = \"log10\") + \n",
    "  theme_cowplot(12) + \n",
    "  facet_wrap(~sample, ncol = 2) + \n",
    "  geom_vline(xintercept = c(params$min_lib_size, params$max_lib_size), linetype = 3) + \n",
    "  geom_hline(yintercept = c(params$min_n_genes, params$max_n_genes), linetype = 3)\n"
   ]
  },
  {
   "cell_type": "markdown",
   "id": "569acfca",
   "metadata": {},
   "source": [
    "## Filtering\n"
   ]
  },
  {
   "cell_type": "markdown",
   "id": "9df3e5e2",
   "metadata": {},
   "source": [
    "- between `r params$min_lib_size` and `r params$max_lib_size` UMIs per cell\n"
   ]
  },
  {
   "cell_type": "markdown",
   "id": "28f219f2",
   "metadata": {},
   "source": [
    "- between `r params$min_n_genes` and `r params$max_n_genes` genes\n"
   ]
  },
  {
   "cell_type": "markdown",
   "id": "744eedaf",
   "metadata": {},
   "source": [
    "- less than `r params$max_pct_mt`% mitochondrial content\n"
   ]
  },
  {
   "cell_type": "markdown",
   "id": "6f686b74",
   "metadata": {},
   "source": [
    "How many cells are we keeping?\n"
   ]
  },
  {
   "cell_type": "code",
   "execution_count": null,
   "id": "551f0c44",
   "metadata": {},
   "outputs": [],
   "source": [
    "metadata_before_qc <- data@meta.data\n",
    "\n",
    "is_low_quality <- \n",
    "  data$nCount_RNA < params$min_lib_size |\n",
    "  data$nCount_RNA > params$max_lib_size |\n",
    "  data$nFeature_RNA < params$min_n_genes |\n",
    "  data$nFeature_RNA > params$max_n_genes |\n",
    "  data$percent.mt > params$max_pct_mt\n",
    "data$keep_cells <- !is_low_quality\n",
    "Idents(data) <- \"keep_cells\"\n",
    "table(data$keep_cells)\n"
   ]
  },
  {
   "cell_type": "code",
   "execution_count": null,
   "id": "2a622566",
   "metadata": {},
   "outputs": [],
   "source": [
    "purrr::map(unique(data$sample), function(s){\n",
    "  saveRDS(subset(data, sample == s), glue(\"{params$out_dir}/{params$proj_name}_{s}_raw.rds\"))\n",
    "})\n",
    "saveRDS(data, glue(\"{params$out_dir}/{params$proj_name}_all_raw.rds\"))\n"
   ]
  },
  {
   "cell_type": "code",
   "execution_count": null,
   "id": "3ac9c0b9",
   "metadata": {},
   "outputs": [],
   "source": [
    "data <- subset(data, subset = keep_cells == TRUE)\n",
    "metadata_after_qc <- data@meta.data\n"
   ]
  },
  {
   "cell_type": "markdown",
   "id": "f81e8728",
   "metadata": {},
   "source": [
    "## QC summary table\n"
   ]
  },
  {
   "cell_type": "markdown",
   "id": "7206e3da",
   "metadata": {},
   "source": [
    "Comparison before and after filtering\n"
   ]
  },
  {
   "cell_type": "code",
   "execution_count": null,
   "id": "7b043e50",
   "metadata": {},
   "outputs": [],
   "source": [
    "qc_before <- metadata_before_qc %>%\n",
    "  group_by(sample) %>% \n",
    "  summarise(num_cells_before_qc = n())\n",
    "qc_after <- metadata_after_qc %>%\n",
    "  group_by(sample) %>%\n",
    "  summarise(\n",
    "    num_cells_after_qc = n(),\n",
    "    average_library_size = mean(nCount_RNA),\n",
    "    average_num_detected_genes = mean(nFeature_RNA),\n",
    "    average_mitochondrial_fraction = mean(percent.mt)\n",
    "  )\n",
    "qc_table <- left_join(qc_before, qc_after, by = \"sample\")\n",
    "flextable::flextable(qc_table) %>% \n",
    "  flextable::autofit()\n"
   ]
  },
  {
   "cell_type": "code",
   "execution_count": null,
   "id": "863f3f26",
   "metadata": {},
   "outputs": [],
   "source": [
    "purrr::map(unique(data$sample), function(s){\n",
    "  saveRDS(subset(data, sample == s), glue(\"{params$out_dir}/{params$proj_name}_{s}_filtered.rds\"))\n",
    "})\n",
    "saveRDS(data, glue(\"{params$out_dir}/{params$proj_name}_all_filtered.rds\"))\n"
   ]
  },
  {
   "cell_type": "markdown",
   "id": "b9741877",
   "metadata": {},
   "source": [
    "***\n"
   ]
  },
  {
   "cell_type": "markdown",
   "id": "8140ee14",
   "metadata": {},
   "source": [
    "<a href=\"#top\">Back to top</a>\n"
   ]
  },
  {
   "cell_type": "markdown",
   "id": "333238b3",
   "metadata": {},
   "source": [
    "## Session Info\n"
   ]
  },
  {
   "cell_type": "code",
   "execution_count": null,
   "id": "6bf680e9",
   "metadata": {},
   "outputs": [],
   "source": [
    "sessionInfo()\n"
   ]
  },
  {
   "cell_type": "markdown",
   "id": "6eb1a601",
   "metadata": {},
   "source": [
    "<a href=\"#top\">Back to top</a>\n"
   ]
  }
 ],
 "metadata": {
  "language_info": {
   "name": "python"
  }
 },
 "nbformat": 4,
 "nbformat_minor": 5
}
