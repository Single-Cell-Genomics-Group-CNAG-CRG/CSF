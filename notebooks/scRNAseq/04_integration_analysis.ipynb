{
 "cells": [
  {
   "cell_type": "markdown",
   "id": "437908af",
   "metadata": {},
   "source": [
    "---"
   ]
  },
  {
   "cell_type": "markdown",
   "id": "103017be",
   "metadata": {},
   "source": [
    "title: \"All cells scVI integrated\""
   ]
  },
  {
   "cell_type": "markdown",
   "id": "a6f16d67",
   "metadata": {},
   "source": [
    "author:"
   ]
  },
  {
   "cell_type": "markdown",
   "id": "fe175b3b",
   "metadata": {},
   "source": [
    "- name: Paula Nieto"
   ]
  },
  {
   "cell_type": "markdown",
   "id": "2514f9e6",
   "metadata": {},
   "source": [
    "  affiliation:"
   ]
  },
  {
   "cell_type": "markdown",
   "id": "1f72af99",
   "metadata": {},
   "source": [
    "  - Centro Nacional de Análisis Genómico (CNAG)"
   ]
  },
  {
   "cell_type": "markdown",
   "id": "7da78680",
   "metadata": {},
   "source": [
    "  email: paula.nieto@cnag.crg.eu"
   ]
  },
  {
   "cell_type": "markdown",
   "id": "ca2a0a36",
   "metadata": {},
   "source": [
    "date: '`r format(Sys.Date(), \"%B %d, %Y\")`'"
   ]
  },
  {
   "cell_type": "markdown",
   "id": "b708cd81",
   "metadata": {},
   "source": [
    "output:"
   ]
  },
  {
   "cell_type": "markdown",
   "id": "16aae024",
   "metadata": {},
   "source": [
    "  html_document:"
   ]
  },
  {
   "cell_type": "markdown",
   "id": "624b9303",
   "metadata": {},
   "source": [
    "    toc: true"
   ]
  },
  {
   "cell_type": "markdown",
   "id": "92a26e99",
   "metadata": {},
   "source": [
    "    toc_float: true"
   ]
  },
  {
   "cell_type": "markdown",
   "id": "604298d4",
   "metadata": {},
   "source": [
    "---"
   ]
  },
  {
   "cell_type": "markdown",
   "id": "4fd02157",
   "metadata": {},
   "source": []
  },
  {
   "cell_type": "code",
   "execution_count": null,
   "id": "68de6a10",
   "metadata": {},
   "outputs": [],
   "source": [
    "knitr::opts_chunk$set(\n",
    "  echo = FALSE,\n",
    "  results = \"hide\",\n",
    "  warning = FALSE,\n",
    "  message = FALSE,\n",
    "  tidy = TRUE\n",
    ")"
   ]
  },
  {
   "cell_type": "markdown",
   "id": "df9ad612",
   "metadata": {},
   "source": []
  },
  {
   "cell_type": "code",
   "execution_count": null,
   "id": "1ed91565",
   "metadata": {},
   "outputs": [],
   "source": [
    "tryCatch({\n",
    "  source(\"/scratch_isilon/groups/singlecell/pnieto/scripts/r_utils/utils.R\")\n",
    "}, error = function(e) {\n",
    "  source(\"S:/scripts/r_utils/utils.R\")\n",
    "})\n",
    "library(dittoSeq)"
   ]
  },
  {
   "cell_type": "markdown",
   "id": "28a5b97e",
   "metadata": {},
   "source": []
  },
  {
   "cell_type": "code",
   "execution_count": null,
   "id": "3b60d7ad",
   "metadata": {},
   "outputs": [],
   "source": [
    "root <- get_root_dir()\n",
    "proj_dir <- glue(\"{root}/CSF\")\n",
    "data_dir <- glue(\"{proj_dir}/output/integration/All cells\")\n",
    "out_dir <- data_dir"
   ]
  },
  {
   "cell_type": "markdown",
   "id": "0154533b",
   "metadata": {},
   "source": []
  },
  {
   "cell_type": "code",
   "execution_count": null,
   "id": "73e51d19",
   "metadata": {},
   "outputs": [],
   "source": [
    "# create output folder if it doesn't exist yet\n",
    "if (!file.exists(out_dir)) {\n",
    "  dir.create(out_dir)\n",
    "}"
   ]
  },
  {
   "cell_type": "markdown",
   "id": "5e5c7bac",
   "metadata": {},
   "source": []
  },
  {
   "cell_type": "code",
   "execution_count": null,
   "id": "53717ae8",
   "metadata": {},
   "outputs": [],
   "source": [
    "data <- readRDS(glue(\"{data_dir}/All_cells_annotated_updated.rds\"))\n",
    "# Idents(data) <- \"leiden_res_0.05\""
   ]
  },
  {
   "cell_type": "markdown",
   "id": "26d0cb9e",
   "metadata": {},
   "source": []
  },
  {
   "cell_type": "code",
   "execution_count": null,
   "id": "cf6c6bdb",
   "metadata": {},
   "outputs": [],
   "source": [
    "# set up color palettes\n",
    "pal_patients <- as.vector(pals::polychrome())\n",
    "pal_projects <-as.vector(pals::alphabet())\n",
    "pal_disease <-as.vector(pals::trubetskoy())[1:4]\n",
    "pal_clusters <- c(ggsci::pal_d3(\"category20\")(20), ggsci::pal_d3(\"category20b\")(20))\n",
    "pal_gene_exp <- c(\"#ADD8E633\", \"#E46726\")\n",
    "\n",
    "# set up color palettes\n",
    "pal_i_annot <- c(\"green4\", \"#d6604d\", \"orange2\", \"purple4\", \"#4393c3\")\n",
    "names(pal_i_annot) <- unique(data$i_annot)\n",
    "\n",
    "pal_i_annot_2 <- as.vector(pals::trubetskoy())[5:22]\n",
    "names(pal_i_annot_2) <- unique(data$i_annot_2)\n",
    "\n",
    "pal_lv2_annot <- c(as.vector(pals::polychrome()), \"black\", \"#f4f592\", \"forestgreen\")\n",
    "names(pal_lv2_annot) <- unique(data$lv2_annot)"
   ]
  },
  {
   "cell_type": "markdown",
   "id": "2e6a134b",
   "metadata": {},
   "source": []
  },
  {
   "cell_type": "code",
   "execution_count": null,
   "id": "faa53ab7",
   "metadata": {},
   "outputs": [],
   "source": [
    "# recode \"Proliferative\" cluster\n",
    "data$i_annot[data$lv2_annot == \"Macrophages proliferative\"] <- \"Myeloid\"\n",
    "data$i_annot_2[data$lv2_annot == \"Macrophages proliferative\"] <- \"Macrophages\"\n",
    "\n",
    "data$i_annot[data$lv2_annot == \"T cells proliferative\"] <- \"T cells\"\n",
    "data$i_annot_2[data$lv2_annot == \"T cellss proliferative\"] <- \"CD8\"\n",
    "\n",
    "data$i_annot[data$general == \"CD45-\"] <- \"Non-immune\"\n",
    "data$i_annot_2[data$general == \"CD45-\"] <- \"Non-immune\""
   ]
  },
  {
   "cell_type": "markdown",
   "id": "2e354413",
   "metadata": {},
   "source": []
  },
  {
   "cell_type": "markdown",
   "id": "9b9a34e7",
   "metadata": {},
   "source": [
    "# Integration"
   ]
  },
  {
   "cell_type": "markdown",
   "id": "5ee2388b",
   "metadata": {},
   "source": []
  },
  {
   "cell_type": "code",
   "execution_count": null,
   "id": "df73cc97",
   "metadata": {},
   "outputs": [],
   "source": [
    "data <- readRDS(glue(\"{data_dir}/all_cells_merged.rds\"))\n",
    "\n",
    "data <- data %>%\n",
    "  NormalizeData() %>%\n",
    "  FindVariableFeatures(nfeatures = 3000) %>%\n",
    "  ScaleData(verbose = FALSE) %>%\n",
    "  RunPCA(verbose = FALSE) %>%\n",
    "  RunUMAP(dims = 1:20, verbose = FALSE) %>%\n",
    "  RunUMAP(dims = 1:20, verbose = FALSE, reduction.key = \"UMAP_scVI_\", reduction.name = \"umap_scvi\")\n",
    "\n",
    "# fix mistaken patient\n",
    "data$patient[data$library == 3885] <- \"P12\"\n",
    "data$patient_sample <- paste(data$patient, data$sample, sep = \"_\")"
   ]
  },
  {
   "cell_type": "markdown",
   "id": "95653893",
   "metadata": {},
   "source": []
  },
  {
   "cell_type": "code",
   "execution_count": null,
   "id": "3684ca53",
   "metadata": {},
   "outputs": [],
   "source": [
    "data$disease <- \"none\"\n",
    "data$disease[data$patient %in% c(\"P01\", \"P06\", \"P10\", \"P11\", \"P15\")] <- \"Lymphoma\"\n",
    "data$disease[data$patient %in% c(\"P02\", \"P05\")] <- \"Glioblastoma\"\n",
    "data$disease[data$patient %in% c(\"P03\", \"P08\", \"P09\", \"P12\", \"P16\")] <- \"Brain met\"\n",
    "data$disease[data$patient %in% c(\"P04\", \"P07\", \"P13\", \"P14\")] <- \"Inflammatory\""
   ]
  },
  {
   "cell_type": "markdown",
   "id": "0d4f1b3c",
   "metadata": {},
   "source": []
  },
  {
   "cell_type": "code",
   "execution_count": null,
   "id": "2bb6a89e",
   "metadata": {},
   "outputs": [],
   "source": [
    "# Read the CSV file with the clusters from scVI\n",
    "clusters <- read.csv(glue(\"{data_dir}/All_cells_scVI_clusters.csv\"))\n",
    "rownames(clusters) <- clusters$X\n",
    "clusters$X <- NULL\n",
    "# add clusters metadata to seu obj\n",
    "data <- AddMetaData(data, metadata = clusters)\n",
    "\n",
    "umap <- read.csv(glue(\"{data_dir}/All_cells_scVI_UMAP.csv\"))\n",
    "rownames(umap) <- umap$X\n",
    "umap$X <- NULL\n",
    "colnames(umap) <- c(\"UMAPscVI_1\", \"UMAPscVI_2\")\n",
    "data@reductions$umap_scvi@cell.embeddings <- as.matrix(umap)\n",
    "Idents(data) <- \"leiden_res_0.05\""
   ]
  },
  {
   "cell_type": "markdown",
   "id": "4fd80add",
   "metadata": {},
   "source": []
  },
  {
   "cell_type": "markdown",
   "id": "02710757",
   "metadata": {},
   "source": [
    "Uncorrected UMAP"
   ]
  },
  {
   "cell_type": "markdown",
   "id": "fa86db0b",
   "metadata": {},
   "source": []
  },
  {
   "cell_type": "code",
   "execution_count": null,
   "id": "f30244aa",
   "metadata": {},
   "outputs": [],
   "source": [
    "DimPlot(\n",
    "  data,\n",
    "  pt.size = 1,\n",
    "  reduction = \"umap\",\n",
    "  group.by = \"patient_sample\",\n",
    "  shuffle = TRUE,\n",
    "  cols = pal_patients\n",
    "  ) +\n",
    "  DimPlot(\n",
    "  data,\n",
    "  pt.size = 1,\n",
    "  reduction = \"umap\",\n",
    "  group.by = \"project\",\n",
    "  shuffle = TRUE,\n",
    "  cols = pal_projects\n",
    "  )"
   ]
  },
  {
   "cell_type": "markdown",
   "id": "31e9438f",
   "metadata": {},
   "source": []
  },
  {
   "cell_type": "markdown",
   "id": "af36b219",
   "metadata": {},
   "source": [
    "scVI corrected UMAP"
   ]
  },
  {
   "cell_type": "markdown",
   "id": "1380a1ad",
   "metadata": {},
   "source": []
  },
  {
   "cell_type": "code",
   "execution_count": null,
   "id": "28469c15",
   "metadata": {},
   "outputs": [],
   "source": [
    "DimPlot(\n",
    "  data,\n",
    "  pt.size = 1,\n",
    "  reduction = \"umap_scvi\",\n",
    "  group.by = \"patient_sample\",\n",
    "  shuffle = TRUE,\n",
    "  cols = pal_patients\n",
    "  ) +\n",
    "  DimPlot(\n",
    "  data,\n",
    "  pt.size = 1,\n",
    "  reduction = \"umap_scvi\",\n",
    "  group.by = \"project\",\n",
    "  shuffle = TRUE,\n",
    "  cols = pal_projects\n",
    "  )"
   ]
  },
  {
   "cell_type": "markdown",
   "id": "90b3c05d",
   "metadata": {},
   "source": []
  },
  {
   "cell_type": "markdown",
   "id": "feee4a2e",
   "metadata": {},
   "source": [
    "# Clustering"
   ]
  },
  {
   "cell_type": "markdown",
   "id": "243939d7",
   "metadata": {},
   "source": []
  },
  {
   "cell_type": "code",
   "execution_count": null,
   "id": "abb941a0",
   "metadata": {},
   "outputs": [],
   "source": [
    "DimPlot(\n",
    "  data,\n",
    "  pt.size = 1,\n",
    "  reduction = \"umap_scvi\",\n",
    "  group.by = \"leiden_res_0.05\",\n",
    "  cols = pal_clusters,\n",
    "  label = TRUE\n",
    "  )"
   ]
  },
  {
   "cell_type": "markdown",
   "id": "82e69a2f",
   "metadata": {},
   "source": []
  },
  {
   "cell_type": "code",
   "execution_count": null,
   "id": "73758848",
   "metadata": {},
   "outputs": [],
   "source": [
    "Idents(data) <- \"leiden_res_0.05\"\n",
    "markers <- FindAllMarkers(\n",
    "  object = data,\n",
    "  only.pos = TRUE,\n",
    "  max.cells.per.ident = 1000\n",
    ")\n",
    "\n",
    "# save file\n",
    "saveRDS(markers, glue(\"{out_dir}/markers/marker_genes_res0.05_scVI_seu.rds\"))\n",
    "# write to excel file\n",
    "openxlsx::write.xlsx(split(markers, markers$cluster),\n",
    "                     file = glue(\"{out_dir}/markers/marker_genes_res0.05_scVI_seu.xlsx\"),\n",
    "                     overwrite = TRUE)"
   ]
  },
  {
   "cell_type": "markdown",
   "id": "482a2d52",
   "metadata": {},
   "source": []
  },
  {
   "cell_type": "code",
   "execution_count": null,
   "id": "2f014db0",
   "metadata": {},
   "outputs": [],
   "source": [
    "FeaturePlot(\n",
    "  data,\n",
    "  features = c(\"CD3E\", \"CD3D\", \"CD4\", \"CD8B\", \"CD68\", \"MS4A1\"),\n",
    "  order = TRUE,\n",
    "  pt.size = 1,\n",
    "  ncol = 3,\n",
    "  label = TRUE,\n",
    "  reduction = \"umap_scvi\",\n",
    "  cols = pal_gene_exp,\n",
    ")"
   ]
  },
  {
   "cell_type": "markdown",
   "id": "46756fdd",
   "metadata": {},
   "source": []
  },
  {
   "cell_type": "markdown",
   "id": "f9b6c795",
   "metadata": {},
   "source": [
    "# Annotation"
   ]
  },
  {
   "cell_type": "markdown",
   "id": "42d207ec",
   "metadata": {},
   "source": []
  },
  {
   "cell_type": "markdown",
   "id": "b8b26cec",
   "metadata": {},
   "source": [
    "Original automatic annotation"
   ]
  },
  {
   "cell_type": "markdown",
   "id": "b3a5f7eb",
   "metadata": {},
   "source": []
  },
  {
   "cell_type": "code",
   "execution_count": null,
   "id": "b41c585f",
   "metadata": {},
   "outputs": [],
   "source": [
    "DimPlot(\n",
    "  data,\n",
    "  group.by = \"auto_annot\",\n",
    "  cols = as.vector(pals::polychrome()),\n",
    "  pt.size = 1,\n",
    "  shuffle = TRUE,\n",
    "  reduction = \"umap_scvi\",\n",
    ")"
   ]
  },
  {
   "cell_type": "markdown",
   "id": "5953901a",
   "metadata": {},
   "source": []
  },
  {
   "cell_type": "markdown",
   "id": "a79b95c6",
   "metadata": {},
   "source": [
    "## CD45+/- annotation"
   ]
  },
  {
   "cell_type": "markdown",
   "id": "ea897c49",
   "metadata": {},
   "source": []
  },
  {
   "cell_type": "code",
   "execution_count": null,
   "id": "3faa0618",
   "metadata": {},
   "outputs": [],
   "source": [
    "FeaturePlot(\n",
    "  data,\n",
    "  features = c(\"PTPRC\"),\n",
    "  # pt.size = 1,\n",
    "  # label = TRUE,\n",
    "  reduction = \"umap_scvi\",\n",
    "  cols = pal_gene_exp,\n",
    ")"
   ]
  },
  {
   "cell_type": "markdown",
   "id": "f0e35e61",
   "metadata": {},
   "source": []
  },
  {
   "cell_type": "code",
   "execution_count": null,
   "id": "64828bf2",
   "metadata": {},
   "outputs": [],
   "source": [
    "Idents(data) <- \"CD45+\"\n",
    "data <- CellSelector(plot = FeaturePlot(data, \"PTPRC\", order = TRUE, reduction = \"umap_scvi\"), object = data, ident = \"CD45-\")\n",
    "data$general <- Idents(data)\n",
    "data$general <- as.character(data$general)"
   ]
  },
  {
   "cell_type": "markdown",
   "id": "f86dcf98",
   "metadata": {},
   "source": []
  },
  {
   "cell_type": "code",
   "execution_count": null,
   "id": "e0f26614",
   "metadata": {},
   "outputs": [],
   "source": [
    "DimPlot(\n",
    "  data,\n",
    "  group.by = \"general\",\n",
    "  reduction = \"umap_scvi\"\n",
    ")"
   ]
  },
  {
   "cell_type": "markdown",
   "id": "e63d11e4",
   "metadata": {},
   "source": []
  },
  {
   "cell_type": "markdown",
   "id": "932e708d",
   "metadata": {},
   "source": [
    "## General annotation"
   ]
  },
  {
   "cell_type": "markdown",
   "id": "6578daed",
   "metadata": {},
   "source": []
  },
  {
   "cell_type": "code",
   "execution_count": null,
   "id": "172d6d31",
   "metadata": {},
   "outputs": [],
   "source": [
    "# load Immune cells to filter out bad quality cells\n",
    "immune <- readRDS(glue(\"{proj_dir}/output/integration/Immune cells/Immune_cells_annotated_filtered_lv2.rds\"))@meta.data\n",
    "\n",
    "immune$barcode <- rownames(immune)\n",
    "immune <- immune[, c(\"barcode\",  \"i_annot_2\", \"i_annot\", \"lv2_annot\")]\n",
    "\n",
    "rownames(immune) <- immune$barcode\n",
    "data <- AddMetaData(data, immune[, c(\"i_annot_2\", \"i_annot\", \"lv2_annot\")])\n",
    "data$lv2_annot <- as.character(data$lv2_annot)\n",
    "table(is.na(data$lv2_annot))\n",
    "\n",
    "data$lv2_annot[data$general == \"CD45-\"] <- \"Non-immune\"\n",
    "table(is.na(data$lv2_annot))\n",
    "\n",
    "data <- data[, !is.na(data@meta.data[, \"lv2_annot\"])]\n",
    "saveRDS(data, glue(\"{data_dir}/All_cells_annotated_filtered_lv2.rds\"))"
   ]
  },
  {
   "cell_type": "markdown",
   "id": "4bb24d12",
   "metadata": {},
   "source": []
  },
  {
   "cell_type": "code",
   "execution_count": null,
   "id": "ff450390",
   "metadata": {},
   "outputs": [],
   "source": [
    "# load Immune cells to filter out bad quality cells\n",
    "immune <- readRDS(glue(\"{proj_dir}/output/integration/Immune cells/Immune_cells_annotated_filtered_lv2.rds\"))@meta.data\n",
    "\n",
    "immune$barcode <- rownames(immune)\n",
    "immune <- immune[, c(\"barcode\",  \"i_annot_2\", \"i_annot\", \"lv2_annot\")]\n",
    "\n",
    "rownames(immune) <- immune$barcode\n",
    "data <- AddMetaData(data, immune[, c(\"i_annot_2\", \"i_annot\", \"lv2_annot\")])\n",
    "data$lv2_annot <- as.character(data$lv2_annot)\n",
    "table(is.na(data$lv2_annot))\n",
    "\n",
    "data$lv2_annot[data$general == \"CD45-\"] <- \"Non-immune\"\n",
    "table(is.na(data$lv2_annot))\n",
    "\n",
    "data <- data[, !is.na(data@meta.data[, \"lv2_annot\"])]\n",
    "saveRDS(data, glue(\"{data_dir}/All_cells_annotated_filtered_lv2.rds\"))"
   ]
  },
  {
   "cell_type": "markdown",
   "id": "95cb5f25",
   "metadata": {},
   "source": []
  },
  {
   "cell_type": "code",
   "execution_count": null,
   "id": "02e2deaf",
   "metadata": {},
   "outputs": [],
   "source": [
    "DimPlot(\n",
    "  data,\n",
    "  pt.size = 1,\n",
    "  reduction = \"umap_scvi\",\n",
    "  group.by = \"leiden_res_1\",\n",
    "  cols = pal_clusters,\n",
    "  label = TRUE\n",
    "  )"
   ]
  },
  {
   "cell_type": "markdown",
   "id": "ae790fc3",
   "metadata": {},
   "source": []
  },
  {
   "cell_type": "code",
   "execution_count": null,
   "id": "cd2288dd",
   "metadata": {},
   "outputs": [],
   "source": [
    "data$leiden_res_1 <- as.character(data$leiden_res_1)\n",
    "\n",
    "# assign annotation to i_annot\n",
    "data$barcode <- rownames(data@meta.data)\n",
    "df_meta <- data@meta.data[, c(\"barcode\", \"leiden_res_1\")]\n",
    "df_annot <- data.frame(\n",
    "  \"leiden_res_1\" = as.character(c(0:24)),\n",
    "  \"i_annot\" = c(\"T cells\", \"T cells\", \"T cells\", \"T cells\", \"Myeloid\", \"B cells\", \"Myeloid\", \"T cells\", \"T cells\", \"T cells\", \"T cells\", \"Myeloid\", \"T cells\", \"B cells\", \"T cells\", \"Myeloid\", \"Myeloid\", \"T cells\", \"Proliferative\", \"B cells\", \"B cells\", \"Myeloid\", \"Non-immune\", \"Myeloid\", \"Myeloid\"),\n",
    "  \"i_annot_2\" = c(\"CD8\", \"CD4\", \"CD4\", \"CD4\", \"Macrophages\", \"B cells\", \"Monocytes\", \"CD4\", \"CD4\", \"NK\", \"CD8\", \"DC\", \"CD8\", \"B cells\", \"CD8\", \"Monocytes\", \"DC\", \"CD4\", \"Proliferative\", \"B cells\", \"B cells\", \"DC\", \"Non-immune\", \"DC\", \"DC\")\n",
    ")\n",
    "df_meta <- merge(df_meta, df_annot, all.x = TRUE)\n",
    "rownames(df_meta) <- df_meta$barcode\n",
    "data <- AddMetaData(data, metadata = df_meta[,c(\"i_annot\", \"i_annot_2\")])\n",
    "data$i_annot <- as.character(data$i_annot)\n",
    "data$i_annot_2 <- as.character(data$i_annot_2)\n",
    "saveRDS(data, glue(\"{data_dir}/All_cells_annotated_filtered_lv2.rds\"))"
   ]
  },
  {
   "cell_type": "markdown",
   "id": "239e7859",
   "metadata": {},
   "source": []
  },
  {
   "cell_type": "code",
   "execution_count": null,
   "id": "c1ce14bb",
   "metadata": {},
   "outputs": [],
   "source": [
    "DimPlot(\n",
    "  data,\n",
    "  pt.size = 1,\n",
    "  reduction = \"umap_scvi\",\n",
    "  group.by = \"i_annot\",\n",
    "  cols = pal_i_annot\n",
    "  ) +\n",
    "DimPlot(\n",
    "  data,\n",
    "  pt.size = 1,\n",
    "  reduction = \"umap_scvi\",\n",
    "  group.by = \"i_annot_2\",\n",
    "  cols = pal_i_annot_2\n",
    "  )  +\n",
    "  plot_annotation(caption = glue(\"{dim(data)[2]} cells\")) &\n",
    "  theme(text = element_text(size = 20))"
   ]
  },
  {
   "cell_type": "markdown",
   "id": "c4e13633",
   "metadata": {},
   "source": []
  },
  {
   "cell_type": "code",
   "execution_count": null,
   "id": "2a1fa6f7",
   "metadata": {},
   "outputs": [],
   "source": [
    "DimPlot(\n",
    "  data,\n",
    "  group.by = \"disease\",\n",
    "  cols = pal_disease,\n",
    "  pt.size = 1,\n",
    "  shuffle = TRUE,\n",
    "  reduction = \"umap_scvi\"\n",
    ")"
   ]
  },
  {
   "cell_type": "markdown",
   "id": "06712b4a",
   "metadata": {},
   "source": []
  },
  {
   "cell_type": "code",
   "execution_count": null,
   "id": "d6898368",
   "metadata": {},
   "outputs": [],
   "source": [
    "p1 <- table(data@meta.data[, c(\"i_annot_2\", \"disease\")]) %>%\n",
    "  as.data.frame() %>%\n",
    "  ggplot(aes(fill=disease, y=Freq, x=i_annot_2)) +\n",
    "  geom_bar(position=\"fill\", stat=\"identity\") +\n",
    "  theme_classic() +\n",
    "  labs(x = \"Cluster\", y = \"Proportion\", fill = \"Disease\") +\n",
    "  scale_fill_manual(values = pal_disease) +\n",
    "  RotatedAxis()\n",
    "\n",
    "p2 <- table(data@meta.data[, c(\"i_annot_2\")]) %>%\n",
    "  as.data.frame() %>%\n",
    "  ggplot(aes(y=Freq, x=Var1)) +\n",
    "  geom_bar(stat=\"identity\") +\n",
    "  theme_minimal_hgrid() +\n",
    "  labs(y = \"Number of cells\") +\n",
    "  theme(axis.ticks.x = element_blank(), axis.text.x = element_blank(), axis.title.x = element_blank())\n",
    "\n",
    "(p2 + p1)  +\n",
    "  plot_layout(heights = c(4, 10)) & theme(text = element_text(size = 12))"
   ]
  },
  {
   "cell_type": "markdown",
   "id": "483d9c24",
   "metadata": {},
   "source": []
  },
  {
   "cell_type": "code",
   "execution_count": null,
   "id": "dae35057",
   "metadata": {},
   "outputs": [],
   "source": [
    "p1 <- table(data@meta.data[, c(\"i_annot\", \"disease\")]) %>%\n",
    "  as.data.frame() %>%\n",
    "  ggplot(aes(fill=disease, y=Freq, x=i_annot)) +\n",
    "  geom_bar(position=\"fill\", stat=\"identity\") +\n",
    "  theme_classic() +\n",
    "  labs(x = \"Cluster\", y = \"Proportion\", fill = \"Disease\") +\n",
    "  scale_fill_manual(values = pal_disease) +\n",
    "  RotatedAxis()\n",
    "\n",
    "p2 <- table(data@meta.data[, c(\"i_annot\")]) %>%\n",
    "  as.data.frame() %>%\n",
    "  ggplot(aes(y=Freq, x=Var1)) +\n",
    "  geom_bar(stat=\"identity\") +\n",
    "  theme_minimal_hgrid() +\n",
    "  labs(y = \"Number of cells\") +\n",
    "  theme(axis.ticks.x = element_blank(), axis.text.x = element_blank(), axis.title.x = element_blank())\n",
    "\n",
    "(p2 + p1)  +\n",
    "  plot_layout(heights = c(4, 10)) & theme(text = element_text(size = 20))"
   ]
  },
  {
   "cell_type": "markdown",
   "id": "f2992f88",
   "metadata": {},
   "source": []
  },
  {
   "cell_type": "code",
   "execution_count": null,
   "id": "89403825",
   "metadata": {},
   "outputs": [],
   "source": [
    "t <- table(data@meta.data[, c(\"i_annot\", \"disease\", \"patient_sample\")]) %>%\n",
    "  as.data.frame() %>%\n",
    "  filter(Freq > 0) %>%\n",
    "  mutate_if(is.factor,as.character) %>%\n",
    "  arrange(disease)\n",
    "t$patient_sample <-  factor(t$patient_sample, levels = t[, c(\"patient_sample\", \"disease\")] %>% unique() %>% pull(patient_sample))\n",
    "\n",
    "# bar at the top\n",
    "p1 <-  ggplot(t, aes(y=-1, fill=disease, x=patient_sample)) +\n",
    "  geom_tile() +\n",
    "  scale_fill_manual(values = pal_disease) +\n",
    "  theme_void() +\n",
    "  labs(fill = \"Disease\")\n",
    "\n",
    "# actual barplot\n",
    "p2 <- ggplot(t, aes(fill=i_annot, y=Freq, x=patient_sample)) +\n",
    "  geom_bar(position=\"fill\", stat=\"identity\") +\n",
    "  theme_classic() +\n",
    "  labs(x = \"Patient\", y = \"Proportion\", fill = \"Cell type\") +\n",
    "  scale_fill_manual(values = pal_i_annot) +\n",
    "  RotatedAxis()\n",
    "\n",
    "t2 <- table(data$patient_sample) %>%\n",
    "  as.data.frame()\n",
    "t2$Var1 <-  factor(t2$Var1, levels = t[, c(\"patient_sample\", \"disease\")] %>% unique() %>% pull(patient_sample))\n",
    "\n",
    "p3 <- ggplot(t2, aes(y=Freq, x=Var1)) +\n",
    "  geom_bar(stat=\"identity\") +\n",
    "  theme_minimal_hgrid() +\n",
    "  labs(y = \"Number of cells\") +\n",
    "  theme(axis.ticks.x = element_blank(), axis.text.x = element_blank(),\n",
    "        axis.title.x = element_blank())\n",
    "\n",
    "# patchwork\n",
    "(p3 +p1 + p2)  +\n",
    "  plot_layout(heights = c(4, 1, 10), guides=\"collect\") &\n",
    "  theme(legend.justification = \"left\")"
   ]
  },
  {
   "cell_type": "markdown",
   "id": "834a0fc4",
   "metadata": {},
   "source": []
  },
  {
   "cell_type": "code",
   "execution_count": null,
   "id": "188ee118",
   "metadata": {},
   "outputs": [],
   "source": [
    "t <- table(data@meta.data[, c(\"i_annot_2\", \"disease\", \"patient_sample\")]) %>%\n",
    "  as.data.frame() %>%\n",
    "  filter(Freq > 0) %>%\n",
    "  mutate_if(is.factor,as.character) %>%\n",
    "  arrange(disease)\n",
    "t$patient_sample <-  factor(t$patient_sample, levels = t[, c(\"patient_sample\", \"disease\")] %>% unique() %>% pull(patient_sample))\n",
    "\n",
    "# bar at the top\n",
    "p1 <-  ggplot(t, aes(y=-1, fill=disease, x=patient_sample)) +\n",
    "  geom_tile() +\n",
    "  scale_fill_manual(values = pal_disease) +\n",
    "  theme_void() +\n",
    "  labs(fill = \"Disease\")\n",
    "\n",
    "# actual barplot\n",
    "p2 <- ggplot(t, aes(fill=i_annot_2, y=Freq, x=patient_sample)) +\n",
    "  geom_bar(position=\"fill\", stat=\"identity\") +\n",
    "  theme_classic() +\n",
    "  labs(x = \"Patient\", y = \"Proportion\", fill = \"Cell type\") +\n",
    "  scale_fill_manual(values = pal_i_annot_2\n",
    "  ) +\n",
    "  RotatedAxis()\n",
    "\n",
    "t2 <- table(data$patient_sample) %>%\n",
    "  as.data.frame()\n",
    "t2$Var1 <-  factor(t2$Var1, levels = t[, c(\"patient_sample\", \"disease\")] %>% unique() %>% pull(patient_sample))\n",
    "\n",
    "p3 <- ggplot(t2, aes(y=Freq, x=Var1)) +\n",
    "  geom_bar(stat=\"identity\") +\n",
    "  theme_minimal_hgrid() +\n",
    "  labs(y = \"Number of cells\") +\n",
    "  theme(axis.ticks.x = element_blank(), axis.text.x = element_blank(),\n",
    "        axis.title.x = element_blank())\n",
    "\n",
    "# patchwork\n",
    "(p3 +p1 + p2)  +\n",
    "  plot_layout(heights = c(4, 1, 10), guides=\"collect\") &\n",
    "  theme(legend.justification = \"left\")"
   ]
  },
  {
   "cell_type": "markdown",
   "id": "49acfdd5",
   "metadata": {},
   "source": []
  },
  {
   "cell_type": "code",
   "execution_count": null,
   "id": "071a7ed1",
   "metadata": {},
   "outputs": [],
   "source": [
    "Idents(data) <- \"i_annot_2\"\n",
    "markers <- FindAllMarkers(\n",
    "  object = data,\n",
    "  only.pos = TRUE,\n",
    "  max.cells.per.ident = 500\n",
    ")\n",
    "\n",
    "# save file\n",
    "saveRDS(markers, glue(\"{out_dir}/markers/all_cells_annotation_markers.rds\"))\n",
    "# write to excel file\n",
    "openxlsx::write.xlsx(split(markers, markers$cluster),\n",
    "                     file = glue(\"{out_dir}/markers/all_cells_annotation_markers.xlsx\"),\n",
    "                     overwrite = TRUE)"
   ]
  },
  {
   "cell_type": "markdown",
   "id": "dc06c32f",
   "metadata": {},
   "source": []
  },
  {
   "cell_type": "markdown",
   "id": "5b6d048d",
   "metadata": {},
   "source": [
    "### Kruskal-Wallis Test"
   ]
  },
  {
   "cell_type": "markdown",
   "id": "d7997746",
   "metadata": {},
   "source": []
  },
  {
   "cell_type": "code",
   "execution_count": null,
   "id": "dcf40667",
   "metadata": {},
   "outputs": [],
   "source": [
    "DimPlot(\n",
    "  data,\n",
    "  split.by = \"disease\",\n",
    "  group.by = \"i_annot\",\n",
    "  cols = pal_i_annot,\n",
    "  pt.size = 1,\n",
    "  shuffle = TRUE,\n",
    "  reduction = \"umap_scvi\",\n",
    "  ncol = 2\n",
    ")"
   ]
  },
  {
   "cell_type": "markdown",
   "id": "7ec14e49",
   "metadata": {},
   "source": []
  },
  {
   "cell_type": "code",
   "execution_count": null,
   "id": "d15de014",
   "metadata": {},
   "outputs": [],
   "source": [
    "t <- table(data@meta.data[, c(\"i_annot\", \"disease\", \"patient_sample\")]) %>%\n",
    "  as.data.frame() %>%\n",
    "  filter(Freq > 0) %>%\n",
    "  mutate_if(is.factor,as.character) %>%\n",
    "  arrange(disease)\n",
    "t$patient_sample <-  factor(t$patient_sample, levels = t[, c(\"patient_sample\", \"disease\")] %>% unique() %>% pull(patient_sample))\n",
    "\n",
    "t$total_cells <- ave(t$Freq, t$patient_sample, FUN=sum)\n",
    "t$prop <- t$Freq/t$total_cells\n",
    "\n",
    "my_comparisons <- list( c(\"Lymphoma\", \"Glioblastoma\"),\n",
    "                        c(\"Lymphoma\", \"Inflammatory\"),\n",
    "                        c(\"Lymphoma\", \"Brain met\"),\n",
    "                        c(\"Inflammatory\", \"Glioblastoma\"),\n",
    "                        c(\"Brain met\", \"Glioblastoma\"),\n",
    "                        c(\"Inflammatory\", \"Brain met\") )\n",
    "\n",
    "ggboxplot(t, x = \"disease\", y = \"prop\",\n",
    "          fill = \"disease\", add = \"jitter\",\n",
    "          facet.by = \"i_annot\", short.panel.labs = TRUE) +\n",
    "  stat_compare_means(comparisons = my_comparisons, label = \"p.signif\") +\n",
    "  scale_fill_manual(values = pal_disease) +\n",
    "  theme(axis.text.x = element_blank(), axis.ticks.x = element_blank())"
   ]
  },
  {
   "cell_type": "markdown",
   "id": "e199ddc8",
   "metadata": {},
   "source": []
  },
  {
   "cell_type": "code",
   "execution_count": null,
   "id": "21fec671",
   "metadata": {},
   "outputs": [],
   "source": [
    "library(reshape2)\n",
    "library(RColorBrewer)\n",
    "library(gplots)\n",
    "\n",
    "# Create a pivot table to have rows as patients and columns as cell types\n",
    "data_pivot <- dcast(t, patient_sample ~ i_annot, value.var = \"prop\")\n",
    "\n",
    "# Create a matrix of disease annotations for each patient\n",
    "disease_annotations <- t[match(data_pivot$patient_sample, t$patient_sample), \"disease\"]\n",
    "\n",
    "# Generate a color palette for the heatmap\n",
    "heatmap_colors <- colorRampPalette(rev(brewer.pal(9, \"RdYlBu\")))(50)\n",
    "\n",
    "colSide <- pal_disease[1:4][as.numeric(as.factor(disease_annotations))]\n",
    "rownames(data_pivot) <- data_pivot$patient_sample\n",
    "heatmap(as.matrix(data_pivot[, -1]), RowSideColors = colSide, col = heatmap_colors)#, Colv = NA)"
   ]
  },
  {
   "cell_type": "markdown",
   "id": "5ff13a31",
   "metadata": {},
   "source": []
  },
  {
   "cell_type": "markdown",
   "id": "139c9255",
   "metadata": {},
   "source": [
    "***"
   ]
  },
  {
   "cell_type": "markdown",
   "id": "e3dfa83b",
   "metadata": {},
   "source": []
  },
  {
   "cell_type": "code",
   "execution_count": null,
   "id": "ac501582",
   "metadata": {},
   "outputs": [],
   "source": [
    "DimPlot(\n",
    "  data,\n",
    "  split.by = \"disease\",\n",
    "  group.by = \"i_annot_2\",\n",
    "  cols = pal_i_annot_2,\n",
    "  pt.size = 1,\n",
    "  shuffle = TRUE,\n",
    "  reduction = \"umap_scvi\",\n",
    "  ncol = 2\n",
    ")"
   ]
  },
  {
   "cell_type": "markdown",
   "id": "85cf0cf9",
   "metadata": {},
   "source": []
  },
  {
   "cell_type": "code",
   "execution_count": null,
   "id": "57abe705",
   "metadata": {},
   "outputs": [],
   "source": [
    "t <- table(data@meta.data[, c(\"i_annot_2\", \"disease\", \"patient_sample\")]) %>%\n",
    "  as.data.frame() %>%\n",
    "  filter(Freq > 0) %>%\n",
    "  mutate_if(is.factor,as.character) %>%\n",
    "  arrange(disease)\n",
    "t$patient_sample <-  factor(t$patient_sample, levels = t[, c(\"patient_sample\", \"disease\")] %>% unique() %>% pull(patient_sample))\n",
    "\n",
    "t$total_cells <- ave(t$Freq, t$patient_sample, FUN=sum)\n",
    "t$prop <- t$Freq/t$total_cells\n",
    "\n",
    "my_comparisons <- list( c(\"Lymphoma\", \"Glioblastoma\"),\n",
    "                        c(\"Lymphoma\", \"Inflammatory\"),\n",
    "                        c(\"Lymphoma\", \"Brain met\"),\n",
    "                        c(\"Inflammatory\", \"Glioblastoma\"),\n",
    "                        c(\"Brain met\", \"Glioblastoma\"),\n",
    "                        c(\"Inflammatory\", \"Brain met\") )\n",
    "\n",
    "ggboxplot(t, x = \"disease\", y = \"prop\",\n",
    "          fill = \"disease\", add = \"jitter\",\n",
    "          facet.by = \"i_annot_2\", short.panel.labs = TRUE) +\n",
    "  stat_compare_means(comparisons = my_comparisons, label = \"p.signif\") +\n",
    "  scale_fill_manual(values = pal_disease) +\n",
    "  theme(axis.text.x = element_blank(), axis.ticks.x = element_blank())"
   ]
  },
  {
   "cell_type": "markdown",
   "id": "20cc2816",
   "metadata": {},
   "source": []
  },
  {
   "cell_type": "code",
   "execution_count": null,
   "id": "9acc6f36",
   "metadata": {},
   "outputs": [],
   "source": [
    "# Create a pivot table to have rows as patients and columns as cell types\n",
    "data_pivot <- dcast(t, patient_sample ~ i_annot_2, value.var = \"prop\")\n",
    "\n",
    "# Create a matrix of disease annotations for each patient\n",
    "disease_annotations <- t[match(data_pivot$patient_sample, t$patient_sample), \"disease\"]\n",
    "\n",
    "# Generate a color palette for the heatmap\n",
    "heatmap_colors <- colorRampPalette(rev(brewer.pal(9, \"RdYlBu\")))(50)\n",
    "\n",
    "colSide <- pal_disease[1:4][as.numeric(as.factor(disease_annotations))]\n",
    "rownames(data_pivot) <- data_pivot$patient_sample\n",
    "heatmap(as.matrix(data_pivot[, -1]), RowSideColors = colSide, col = heatmap_colors)#, Colv = NA)"
   ]
  },
  {
   "cell_type": "markdown",
   "id": "0cab817f",
   "metadata": {},
   "source": []
  },
  {
   "cell_type": "markdown",
   "id": "001a3ad1",
   "metadata": {},
   "source": [
    "### scCODA"
   ]
  },
  {
   "cell_type": "markdown",
   "id": "8919e5f2",
   "metadata": {},
   "source": []
  },
  {
   "cell_type": "code",
   "execution_count": null,
   "id": "7b4db7ec",
   "metadata": {},
   "outputs": [],
   "source": [
    "sccoda <- read_csv(glue(\"{data_dir}/All_cellsi_annot_2_scCODA.csv\"))\n",
    "\n",
    "# rename covariate comparison (contrasts)\n",
    "sccoda <- sccoda %>%\n",
    "  mutate(comparison = recode(\n",
    "    Covariate,\n",
    "    \"C(disease, Treatment('Lymphoma'))T.Brain met\" = \"BM v L\",\n",
    "    \"C(disease, Treatment('Lymphoma'))T.Glioblastoma\" = \"G v L\",\n",
    "    \"C(disease, Treatment('Lymphoma'))T.Inflammatory\" = \"I v L\",\n",
    "    \"C(disease, Treatment('Glioblastoma'))T.Brain met\" = \"BM v G\",\n",
    "    \"C(disease, Treatment('Glioblastoma'))T.Inflammatory\" = \"I v G\",\n",
    "    \"C(disease, Treatment('Glioblastoma'))T.Lymphoma\" = \"L v G\",\n",
    "    \"C(disease, Treatment('Brain met'))T.Glioblastoma\" = \"G v BM\",\n",
    "    \"C(disease, Treatment('Brain met'))T.Inflammatory\" = \"I v BM\",\n",
    "    \"C(disease, Treatment('Brain met'))T.Lymphoma\" = \"L v BM\",\n",
    "    \"C(disease, Treatment('Inflammatory'))T.Brain met\" = \"BM v I\",\n",
    "    \"C(disease, Treatment('Inflammatory'))T.Glioblastoma\" = \"G v I\",\n",
    "    \"C(disease, Treatment('Inflammatory'))T.Lymphoma\" = \"L v I\"\n",
    "    )\n",
    "  )\n",
    "\n",
    "# filter out duplicate comparisons\n",
    "sccoda <- sccoda %>%\n",
    "  filter(comparison %in% c(\"BM v I\", \"L v I\", \"G v I\", \"BM v L\", \"G v L\", \"BM v G\"))\n",
    "\n",
    "sccoda$comparison <- factor(sccoda$comparison, levels = c(\"BM v I\", \"L v I\", \"G v I\", \"BM v L\", \"G v L\", \"BM v G\"))\n",
    "\n",
    "sccoda <- sccoda %>%\n",
    "  mutate(significant = case_when(\n",
    "    `Final Parameter` == 0 ~ \"False\",\n",
    "    `Final Parameter` != 0 ~ \"True\")\n",
    "    )"
   ]
  },
  {
   "cell_type": "markdown",
   "id": "4f276e6d",
   "metadata": {},
   "source": []
  },
  {
   "cell_type": "code",
   "execution_count": null,
   "id": "47c27a48",
   "metadata": {},
   "outputs": [],
   "source": [
    "sccoda %>%\n",
    "  ggplot(aes(x = comparison, y = `Cell Type`, size = significant, color = as.numeric(`log2-fold change`))) +\n",
    "  geom_point() +\n",
    "  theme_classic() +\n",
    "  RotatedAxis() +\n",
    "  scale_color_gradient2(\n",
    "    low = \"#3B99B1FF\",\n",
    "    mid = \"#EACB2BFF\",\n",
    "    high = \"#F5191CFF\"\n",
    "    ) +\n",
    "  scale_size_manual(values = c(4, 12)) +\n",
    "  labs(title = \"scCODA results\", x = \"Comparison\", color = \"Log2 FC\", size = \"Significant\") +\n",
    "  theme(text = element_text(size = 18))"
   ]
  },
  {
   "cell_type": "markdown",
   "id": "d8ff960a",
   "metadata": {},
   "source": []
  },
  {
   "cell_type": "code",
   "execution_count": null,
   "id": "436cf259",
   "metadata": {},
   "outputs": [],
   "source": [
    "sccoda <- read_csv(glue(\"{data_dir}/All_cellsi_annot_scCODA.csv\"))\n",
    "\n",
    "# rename covariate comparison (contrasts)\n",
    "sccoda <- sccoda %>%\n",
    "  mutate(comparison = recode(\n",
    "    Covariate,\n",
    "    \"C(disease, Treatment('Lymphoma'))T.Brain met\" = \"BM v L\",\n",
    "    \"C(disease, Treatment('Lymphoma'))T.Glioblastoma\" = \"G v L\",\n",
    "    \"C(disease, Treatment('Lymphoma'))T.Inflammatory\" = \"I v L\",\n",
    "    \"C(disease, Treatment('Glioblastoma'))T.Brain met\" = \"BM v G\",\n",
    "    \"C(disease, Treatment('Glioblastoma'))T.Inflammatory\" = \"I v G\",\n",
    "    \"C(disease, Treatment('Glioblastoma'))T.Lymphoma\" = \"L v G\",\n",
    "    \"C(disease, Treatment('Brain met'))T.Glioblastoma\" = \"G v BM\",\n",
    "    \"C(disease, Treatment('Brain met'))T.Inflammatory\" = \"I v BM\",\n",
    "    \"C(disease, Treatment('Brain met'))T.Lymphoma\" = \"L v BM\",\n",
    "    \"C(disease, Treatment('Inflammatory'))T.Brain met\" = \"BM v I\",\n",
    "    \"C(disease, Treatment('Inflammatory'))T.Glioblastoma\" = \"G v I\",\n",
    "    \"C(disease, Treatment('Inflammatory'))T.Lymphoma\" = \"L v I\"\n",
    "    )\n",
    "  )\n",
    "\n",
    "# filter out duplicate comparisons\n",
    "sccoda <- sccoda %>%\n",
    "  filter(comparison %in% c(\"BM v I\", \"L v I\", \"G v I\", \"BM v L\", \"G v L\", \"BM v G\"))\n",
    "\n",
    "sccoda$comparison <- factor(sccoda$comparison, levels = c(\"BM v I\", \"L v I\", \"G v I\", \"BM v L\", \"G v L\", \"BM v G\"))\n",
    "\n",
    "sccoda <- sccoda %>%\n",
    "  mutate(significant = case_when(\n",
    "    `Final Parameter` == 0 ~ \"False\",\n",
    "    `Final Parameter` != 0 ~ \"True\")\n",
    "    )"
   ]
  },
  {
   "cell_type": "markdown",
   "id": "f2dc5672",
   "metadata": {},
   "source": []
  },
  {
   "cell_type": "code",
   "execution_count": null,
   "id": "15a6fd4d",
   "metadata": {},
   "outputs": [],
   "source": [
    "sccoda %>%\n",
    "  ggplot(aes(x = comparison, y = `Cell Type`, size = significant, color = as.numeric(`log2-fold change`))) +\n",
    "  geom_point() +\n",
    "  theme_classic() +\n",
    "  RotatedAxis() +\n",
    "  scale_color_gradient2(\n",
    "    low = \"#3B99B1FF\",\n",
    "    mid = \"#EACB2BFF\",\n",
    "    high = \"#F5191CFF\"\n",
    "    ) +\n",
    "  scale_size_manual(values = c(4, 12)) +\n",
    "  labs(title = \"scCODA results\", x = \"Comparison\", color = \"Log2 FC\", size = \"Significant\") +\n",
    "  theme(text = element_text(size = 18))"
   ]
  },
  {
   "cell_type": "markdown",
   "id": "862d9ca0",
   "metadata": {},
   "source": []
  },
  {
   "cell_type": "markdown",
   "id": "c02e2dc0",
   "metadata": {},
   "source": [
    "***"
   ]
  },
  {
   "cell_type": "markdown",
   "id": "18c05120",
   "metadata": {},
   "source": []
  },
  {
   "cell_type": "markdown",
   "id": "1940e0af",
   "metadata": {},
   "source": [
    "## Level 2 annotation"
   ]
  },
  {
   "cell_type": "markdown",
   "id": "de02f083",
   "metadata": {},
   "source": []
  },
  {
   "cell_type": "code",
   "execution_count": null,
   "id": "43b8a625",
   "metadata": {},
   "outputs": [],
   "source": [
    "# save counts\n",
    "write.table(as.matrix(GetAssayData(object = data, slot = \"counts\")),\n",
    "            glue(\"{out_dir}/integrated_All_cells_counts.csv\"),\n",
    "            sep = ',', row.names = TRUE, col.names = TRUE, quote = FALSE)\n",
    "# save metadata\n",
    "write.table(\n",
    "  data@meta.data,\n",
    "  glue(\"{out_dir}/integrated_All_cells_metadata.csv\"),\n",
    "  sep = ',', row.names = TRUE, col.names = TRUE, quote = FALSE\n",
    ")"
   ]
  },
  {
   "cell_type": "markdown",
   "id": "514fc8f8",
   "metadata": {},
   "source": []
  },
  {
   "cell_type": "code",
   "execution_count": null,
   "id": "797a34a5",
   "metadata": {},
   "outputs": [],
   "source": [
    "DimPlot(\n",
    "  data,\n",
    "  group.by = \"lv2_annot\",\n",
    "  cols = pal_lv2_annot,\n",
    "  pt.size = 1,\n",
    "  shuffle = TRUE,\n",
    "  reduction = \"umap_scvi\"\n",
    ") +\n",
    "  theme(text = element_text(size = 20)) +\n",
    "  guides(color=guide_legend(ncol = 1, override.aes = list(size = 5)))"
   ]
  },
  {
   "cell_type": "markdown",
   "id": "42c42ca2",
   "metadata": {},
   "source": []
  },
  {
   "cell_type": "code",
   "execution_count": null,
   "id": "07fa638c",
   "metadata": {},
   "outputs": [],
   "source": [
    "t <- table(data@meta.data[, c(\"lv2_annot\", \"disease\", \"patient_sample\")]) %>%\n",
    "  as.data.frame() %>%\n",
    "  filter(Freq > 0) %>%\n",
    "  mutate_if(is.factor,as.character) %>%\n",
    "  arrange(disease)\n",
    "t$patient_sample <-  factor(t$patient_sample, levels = t[, c(\"patient_sample\", \"disease\")] %>% unique() %>% pull(patient_sample))\n",
    "\n",
    "t$total_cells <- ave(t$Freq, t$patient_sample, FUN=sum)\n",
    "t$prop <- t$Freq/t$total_cells\n",
    "\n",
    "# Create a pivot table to have rows as patients and columns as cell types\n",
    "data_pivot <- dcast(t, patient_sample ~ lv2_annot, value.var = \"prop\")\n",
    "data_pivot[is.na(data_pivot)] <- 0\n",
    "\n",
    "# Create a matrix of disease annotations for each patient\n",
    "disease_annotations <- t[match(data_pivot$patient_sample, t$patient_sample), \"disease\"]\n",
    "\n",
    "# Generate a color palette for the heatmap\n",
    "heatmap_colors <- colorRampPalette(rev(brewer.pal(9, \"RdYlBu\")))(50)\n",
    "\n",
    "colSide <- pal_disease[1:4][as.numeric(as.factor(disease_annotations))]\n",
    "rownames(data_pivot) <- data_pivot$patient_sample\n",
    "heatmap(as.matrix(data_pivot[, -1]), RowSideColors = colSide, col = heatmap_colors, margins = c(9,5), cexRow = 0.5, cexCol = 0.5)#, Colv = NA)"
   ]
  },
  {
   "cell_type": "markdown",
   "id": "55ea2526",
   "metadata": {},
   "source": []
  },
  {
   "cell_type": "code",
   "execution_count": null,
   "id": "0ccfb412",
   "metadata": {},
   "outputs": [],
   "source": [
    "data <- readRDS(glue(\"{data_dir}/All_cells_annotated_no_neu.rds\"))\n",
    "# group malignant cells\n",
    "data$lv2_annot[data$lv2_annot %in% c(\"B cell Malignant III\", \"B cell Malignant I\", \"B cell Malignant II\")] <- \"B cell Malignant\"\n",
    "data <- subset(data, lv2_annot == \"Neutrophils\", invert = TRUE)\n",
    "# recode myelod annotation\n",
    "data$lv2_annot <- as.character(data$lv2_annot)\n",
    "data$lv2_annot <- recode(\n",
    "  data$lv2_annot,\n",
    "  'Border TAMs' = \"BAMs\",\n",
    "  'DC CD1C' = \"DC2\",\n",
    "  'DC ITGAX' = \"DC5\",\n",
    "  'DC non-inflammatory CD1C' = \"DC2\",\n",
    "  'DC1 CLEC9A' = \"DC1\",\n",
    "  'DCs mreg LAMP3' = \"DC mreg\",\n",
    "  'Macrphages IFN producing' = \"Macrophages IFN signaling\",\n",
    "  'Microglia TAM' = \"Microglia-like\",\n",
    "  'pvBAMs MRC1hi' = \"BAMs\"\n",
    ")\n",
    "saveRDS(data, glue(\"{data_dir}/All_cells_annotated_updated.rds\"))"
   ]
  },
  {
   "cell_type": "markdown",
   "id": "86c7c995",
   "metadata": {},
   "source": []
  },
  {
   "cell_type": "code",
   "execution_count": null,
   "id": "88dde1ce",
   "metadata": {},
   "outputs": [],
   "source": [
    "# for Sam\n",
    "# remove sequential samples\n",
    "data <- subset(data, sample %in% c(\"S07\", \"S15\", \"S21\", \"S18\"), invert = TRUE)\n",
    "data@meta.data <- data@meta.data[, c(\"nCount_RNA\", \"nFeature_RNA\", \"percent.mt\", \"project\", \"sample\", \"disease\",\"patient\", \"i_annot\", \"i_annot_2\", \"lv2_annot\")]\n",
    "colnames(data@meta.data) <- c(\"nCount_RNA\", \"nFeature_RNA\", \"percent.mt\", \"project\", \"sample\", \"disease\", \"patient\", \"general_annot\", \"lv1_annot\", \"lv2_annot\")\n",
    "\n",
    "saveRDS(data, \"/scratch_isilon/groups/singlecell/shared/projects/CSF/data/All cells/all_cells_updated.rds\")"
   ]
  },
  {
   "cell_type": "markdown",
   "id": "fe2f9676",
   "metadata": {},
   "source": []
  },
  {
   "cell_type": "markdown",
   "id": "1db60181",
   "metadata": {},
   "source": []
  },
  {
   "cell_type": "markdown",
   "id": "e92574ea",
   "metadata": {},
   "source": [
    "### scCODA"
   ]
  },
  {
   "cell_type": "markdown",
   "id": "9c24fed4",
   "metadata": {},
   "source": []
  },
  {
   "cell_type": "code",
   "execution_count": null,
   "id": "11de9358",
   "metadata": {},
   "outputs": [],
   "source": [
    "sccoda <- read_csv(glue(\"{data_dir}/All_cellslv2_annot_scCODA.csv\"))\n",
    "\n",
    "# rename covariate comparison (contrasts)\n",
    "sccoda <- sccoda %>%\n",
    "  mutate(comparison = recode(\n",
    "    Covariate,\n",
    "    \"C(disease, Treatment('Lymphoma'))T.Brain met\" = \"BM v L\",\n",
    "    \"C(disease, Treatment('Lymphoma'))T.Glioblastoma\" = \"G v L\",\n",
    "    \"C(disease, Treatment('Lymphoma'))T.Inflammatory\" = \"I v L\",\n",
    "    \"C(disease, Treatment('Glioblastoma'))T.Brain met\" = \"BM v G\",\n",
    "    \"C(disease, Treatment('Glioblastoma'))T.Inflammatory\" = \"I v G\",\n",
    "    \"C(disease, Treatment('Glioblastoma'))T.Lymphoma\" = \"L v G\",\n",
    "    \"C(disease, Treatment('Brain met'))T.Glioblastoma\" = \"G v BM\",\n",
    "    \"C(disease, Treatment('Brain met'))T.Inflammatory\" = \"I v BM\",\n",
    "    \"C(disease, Treatment('Brain met'))T.Lymphoma\" = \"L v BM\",\n",
    "    \"C(disease, Treatment('Inflammatory'))T.Brain met\" = \"BM v I\",\n",
    "    \"C(disease, Treatment('Inflammatory'))T.Glioblastoma\" = \"G v I\",\n",
    "    \"C(disease, Treatment('Inflammatory'))T.Lymphoma\" = \"L v I\"\n",
    "    )\n",
    "  )\n",
    "\n",
    "# filter out duplicate comparisons\n",
    "sccoda <- sccoda %>%\n",
    "  filter(comparison %in% c(\"BM v I\", \"L v I\", \"G v I\", \"BM v L\", \"G v L\", \"BM v G\"))\n",
    "\n",
    "sccoda$comparison <- factor(sccoda$comparison, levels = c(\"BM v I\", \"L v I\", \"G v I\", \"BM v L\", \"G v L\", \"BM v G\"))\n",
    "\n",
    "sccoda <- sccoda %>%\n",
    "  mutate(significant = case_when(\n",
    "    `Final Parameter` == 0 ~ \"False\",\n",
    "    `Final Parameter` != 0 ~ \"True\")\n",
    "    )"
   ]
  },
  {
   "cell_type": "markdown",
   "id": "52b38f4a",
   "metadata": {},
   "source": []
  },
  {
   "cell_type": "code",
   "execution_count": null,
   "id": "702e0e5a",
   "metadata": {},
   "outputs": [],
   "source": [
    "sccoda %>%\n",
    "  ggplot(aes(x = comparison, y = `Cell Type`, size = significant, color = as.numeric(`log2-fold change`))) +\n",
    "  geom_point() +\n",
    "  theme_classic() +\n",
    "  RotatedAxis() +\n",
    "  scale_color_gradient2(\n",
    "    low = \"#3B99B1FF\",\n",
    "    mid = \"#EACB2BFF\",\n",
    "    high = \"#F5191CFF\"\n",
    "    ) +\n",
    "  scale_size_manual(values = c(1, 8)) +\n",
    "  labs(title = \"scCODA results\", x = \"Comparison\", color = \"Log2 FC\", size = \"Significant\") +\n",
    "  theme(text = element_text(size = 18))"
   ]
  },
  {
   "cell_type": "markdown",
   "id": "bfbb10ca",
   "metadata": {},
   "source": []
  },
  {
   "cell_type": "markdown",
   "id": "5d89c0bc",
   "metadata": {},
   "source": [
    "***"
   ]
  },
  {
   "cell_type": "markdown",
   "id": "7aecbfc9",
   "metadata": {},
   "source": []
  },
  {
   "cell_type": "markdown",
   "id": "fb5c7c28",
   "metadata": {},
   "source": [
    "# Myeloid vs Lymphoid only"
   ]
  },
  {
   "cell_type": "markdown",
   "id": "d124a6a2",
   "metadata": {},
   "source": []
  },
  {
   "cell_type": "code",
   "execution_count": null,
   "id": "aaf94cd1",
   "metadata": {},
   "outputs": [],
   "source": [
    "data$disease_2 <- data$disease\n",
    "data$disease_2[data$patient %in% c(\"P03\", \"P08\")] <- \"Brain met NSCLC\"\n",
    "data$disease_2[data$patient %in% c(\"P09\")] <- \"Brain met CM\"\n",
    "data$disease_2[data$patient %in% c(\"P12\", \"P16\")] <- \"Brain met BC\"\n",
    "pal_disease <- c(\"#e6194b\", \"#630119\", \"#ffcfda\", \"#3cb44b\", \"#ffe119\", \"#4363d8\")"
   ]
  },
  {
   "cell_type": "markdown",
   "id": "e83f7a6c",
   "metadata": {},
   "source": []
  },
  {
   "cell_type": "code",
   "execution_count": null,
   "id": "2aee5b3f",
   "metadata": {},
   "outputs": [],
   "source": [
    "cd45_tab <- data@meta.data[, c(\"patient_sample\", \"i_annot\", \"disease_2\")] %>%\n",
    "  as.data.frame()\n",
    "\n",
    "freq_table <- table(cd45_tab[, c(\"patient_sample\", \"i_annot\")]) %>%\n",
    "  as.data.frame()\n",
    "freq_table <- merge(freq_table, unique(data@meta.data[, c(\"patient_sample\", \"disease_2\")]))\n",
    "\n",
    "totals <- freq_table %>%\n",
    "  group_by(patient_sample) %>%\n",
    "  summarise(total = sum(Freq))\n",
    "freq_table <- merge(freq_table, totals, all.x = TRUE) %>%\n",
    "  mutate(prop = round((Freq / total)*100, digits = 2))\n",
    "\n",
    "pat <- freq_table %>%\n",
    "  filter(i_annot == \"T cells\") %>%\n",
    "  arrange(desc(prop)) %>%\n",
    "  pull(patient_sample)\n",
    "freq_table$patient_sample <- factor(freq_table$patient_sample, levels = pat)\n",
    "\n",
    "dis <- freq_table %>%\n",
    "  filter(i_annot == \"T cells\") %>%\n",
    "  arrange(desc(prop)) %>%\n",
    "  pull(disease_2) %>%\n",
    "  as.character()"
   ]
  },
  {
   "cell_type": "markdown",
   "id": "c7a506e2",
   "metadata": {},
   "source": []
  },
  {
   "cell_type": "code",
   "execution_count": null,
   "id": "f49b386b",
   "metadata": {},
   "outputs": [],
   "source": [
    "# bar at the top\n",
    "p1 <- ggplot(freq_table, aes(y=-1, fill=disease_2, x=patient_sample)) +\n",
    "  geom_tile() +\n",
    "  scale_fill_manual(values = pal_disease) +\n",
    "  theme_void() +\n",
    "  labs(fill = \"disease_2\")\n",
    "\n",
    "# actual barplot\n",
    "p2 <- ggplot(freq_table, aes(fill=i_annot, y=prop, x=patient_sample)) +\n",
    "  geom_bar(position=\"stack\", stat=\"identity\") +\n",
    "  theme_classic() +\n",
    "  geom_hline(yintercept = 50, linetype = \"dashed\") +\n",
    "  scale_fill_manual(values = pal_i_annot) +\n",
    "  RotatedAxis() +\n",
    "  labs(x = \"Patient\", y = \"Percetage\", fill = \"\")\n",
    "\n",
    "# patchwork\n",
    "(p1 + p2)  +\n",
    "  plot_layout(heights = c(1, 10), guides=\"collect\") &\n",
    "  theme(legend.justification = \"left\", text = element_text(size = 20), axis.text.x = element_blank(), axis.ticks.x = element_blank())"
   ]
  },
  {
   "cell_type": "markdown",
   "id": "68022d69",
   "metadata": {},
   "source": []
  },
  {
   "cell_type": "code",
   "execution_count": null,
   "id": "a1a161bd",
   "metadata": {},
   "outputs": [],
   "source": [
    "pat <- freq_table %>%\n",
    "  filter(i_annot == \"Non-immune\") %>%\n",
    "  arrange(desc(prop)) %>%\n",
    "  pull(patient_sample)\n",
    "freq_table$patient_sample <- factor(freq_table$patient_sample, levels = pat)\n",
    "\n",
    "dis <- freq_table %>%\n",
    "  filter(i_annot == \"Non-immune\") %>%\n",
    "  arrange(desc(prop)) %>%\n",
    "  pull(disease_2) %>%\n",
    "  as.character()"
   ]
  },
  {
   "cell_type": "markdown",
   "id": "8ba2a952",
   "metadata": {},
   "source": []
  },
  {
   "cell_type": "code",
   "execution_count": null,
   "id": "e35fec9f",
   "metadata": {},
   "outputs": [],
   "source": [
    "# bar at the top\n",
    "p1 <- ggplot(freq_table, aes(y=-1, fill=disease_2, x=patient_sample)) +\n",
    "  geom_tile() +\n",
    "  scale_fill_manual(values = pal_disease) +\n",
    "  theme_void() +\n",
    "  labs(fill = \"disease_2\")\n",
    "\n",
    "# actual barplot\n",
    "p2 <- ggplot(freq_table, aes(fill=i_annot, y=prop, x=patient_sample)) +\n",
    "  geom_bar(position=\"stack\", stat=\"identity\") +\n",
    "  theme_classic() +\n",
    "  geom_hline(yintercept = 50, linetype = \"dashed\") +\n",
    "  scale_fill_manual(values = pal_i_annot) +\n",
    "  RotatedAxis() +\n",
    "  labs(x = \"Patient\", y = \"Percetage\", fill = \"\")\n",
    "\n",
    "# patchwork\n",
    "(p1 + p2)  +\n",
    "  plot_layout(heights = c(1, 10), guides=\"collect\") &\n",
    "  theme(legend.justification = \"left\", text = element_text(size = 20), axis.text.x = element_blank(), axis.ticks.x = element_blank())"
   ]
  }
 ],
 "metadata": {},
 "nbformat": 4,
 "nbformat_minor": 5
}
